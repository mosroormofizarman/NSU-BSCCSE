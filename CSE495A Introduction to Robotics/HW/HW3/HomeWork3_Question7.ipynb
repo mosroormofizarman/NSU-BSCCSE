{
  "nbformat": 4,
  "nbformat_minor": 0,
  "metadata": {
    "colab": {
      "provenance": []
    },
    "kernelspec": {
      "name": "python3",
      "display_name": "Python 3"
    },
    "language_info": {
      "name": "python"
    }
  },
  "cells": [
    {
      "cell_type": "code",
      "execution_count": 11,
      "metadata": {
        "id": "QhZu9SqxWW_V"
      },
      "outputs": [],
      "source": [
        "import numpy as np\n",
        "import matplotlib.pyplot as plt"
      ]
    },
    {
      "cell_type": "code",
      "source": [
        "# Time variable\n",
        "t = np.arange(0, 15, 0.01)"
      ],
      "metadata": {
        "id": "XUzQaqCQluKY"
      },
      "execution_count": 12,
      "outputs": []
    },
    {
      "cell_type": "code",
      "source": [
        "# Desired trajectory parameters\n",
        "T = 15\n",
        "Tsq = T**2\n",
        "Tcb = T**3"
      ],
      "metadata": {
        "id": "cd3wSPLNlxov"
      },
      "execution_count": 13,
      "outputs": []
    },
    {
      "cell_type": "code",
      "source": [
        "# Matrix A for trajectory coefficients\n",
        "A = np.array([\n",
        "    [1, 0, 0, 0, 0, 0, 0, 0],\n",
        "    [0, 1, 0, 0, 0, 0, 0, 0],\n",
        "    [0, 0, 0, 0, 1, 0, 0, 0],\n",
        "    [0, 0, 0, 0, 0, 1, 0, 0],\n",
        "    [1, T, Tsq, Tcb, 0, 0, 0, 0],\n",
        "    [0, 1, 2*T, 3*Tsq, 0, 0, 0, 0],\n",
        "    [0, 0, 0, 0, 1, T, Tsq, Tcb],\n",
        "    [0, 0, 0, 0, 0, 1, 2*T, 3*Tsq]\n",
        "])"
      ],
      "metadata": {
        "id": "NR26ukxElzuv"
      },
      "execution_count": 14,
      "outputs": []
    },
    {
      "cell_type": "code",
      "source": [
        "# Vector b for trajectory coefficients\n",
        "b = np.array([\n",
        "    [0],\n",
        "    [0],\n",
        "    [0],\n",
        "    [-0.5],\n",
        "    [5],\n",
        "    [0],\n",
        "    [5],\n",
        "    [-0.5]\n",
        "])"
      ],
      "metadata": {
        "id": "bVaaOmAll1v3"
      },
      "execution_count": 15,
      "outputs": []
    },
    {
      "cell_type": "code",
      "source": [
        "# Calculate pseudo-inverse of A and coefficients\n",
        "A_inv = np.linalg.pinv(A)\n",
        "x = np.matmul(A_inv, b)"
      ],
      "metadata": {
        "id": "y8STN7bDl4b3"
      },
      "execution_count": 16,
      "outputs": []
    },
    {
      "cell_type": "code",
      "source": [
        "# Extract coefficients\n",
        "a11, a12, a13, a14 = x[:4]\n",
        "a21, a22, a23, a24 = x[4:8]"
      ],
      "metadata": {
        "id": "5zI4RFYpl6xI"
      },
      "execution_count": 17,
      "outputs": []
    },
    {
      "cell_type": "code",
      "source": [
        "# Calculate desired trajectory\n",
        "X_d = a11 + a12 * t + a13 * t**2 + a14 * t**3\n",
        "Y_d = a21 + a22 * t + a23 * t**2 + a24 * t**3\n",
        "dX_d = np.gradient(X_d, t)\n",
        "dY_d = np.gradient(Y_d, t)\n",
        "ddX_d = np.gradient(dX_d, t)\n",
        "ddY_d = np.gradient(dY_d, t)"
      ],
      "metadata": {
        "id": "K5pi64yMl84P"
      },
      "execution_count": 18,
      "outputs": []
    },
    {
      "cell_type": "code",
      "source": [
        "# Initialize robot state\n",
        "x = X_d[0]\n",
        "y = Y_d[0]\n",
        "theta = np.arctan2(dY_d[0], dX_d[0])\n",
        "V = np.sqrt(dX_d[0]**2 + dY_d[0]**2)"
      ],
      "metadata": {
        "id": "7wRGFEHil-5Y"
      },
      "execution_count": 19,
      "outputs": []
    },
    {
      "cell_type": "code",
      "source": [
        "# Gain values\n",
        "k_px, k_py = 1, 1\n",
        "k_dx, k_dy = 2, 2"
      ],
      "metadata": {
        "id": "CWUUqmz9mA7H"
      },
      "execution_count": 20,
      "outputs": []
    },
    {
      "cell_type": "code",
      "source": [
        "# Noise levels for velocity and angle\n",
        "noise_std_v = 0.01\n",
        "noise_std_theta = 0.001"
      ],
      "metadata": {
        "id": "zB4sEd2cmCyP"
      },
      "execution_count": 21,
      "outputs": []
    },
    {
      "cell_type": "code",
      "source": [
        "# Generate noise\n",
        "noise_v = np.random.normal(0, noise_std_v, len(t))\n",
        "noise_theta = np.random.normal(0, noise_std_theta, len(t))"
      ],
      "metadata": {
        "id": "t0zYysG1mEtX"
      },
      "execution_count": 22,
      "outputs": []
    },
    {
      "cell_type": "code",
      "source": [
        "# Lists to store the robot's trajectory\n",
        "x_states = [x]\n",
        "y_states = [y]"
      ],
      "metadata": {
        "id": "Eig76ZgMmGtX"
      },
      "execution_count": 23,
      "outputs": []
    },
    {
      "cell_type": "code",
      "source": [
        "# Closed-loop control simulation\n",
        "for i in range(1, len(t)):\n",
        "    dt = t[i] - t[i - 1]\n",
        "\n",
        "    # Compute errors\n",
        "    ex = x - X_d[i]\n",
        "    ey = y - Y_d[i]\n",
        "    edx = V * np.cos(theta) - dX_d[i]\n",
        "    edy = V * np.sin(theta) - dY_d[i]\n",
        "\n",
        "    # Closed-loop control\n",
        "    a = ddX_d[i] - k_px * ex - k_dx * edx\n",
        "    omega = ddY_d[i] - k_py * ey - k_dy * edy\n",
        "\n",
        "    # Add noise\n",
        "    a += noise_v[i]\n",
        "    omega += noise_theta[i]\n",
        "\n",
        "    # Update states\n",
        "    x += V * np.cos(theta) * dt\n",
        "    y += V * np.sin(theta) * dt\n",
        "    theta += omega * dt\n",
        "    V += a * dt\n",
        "\n",
        "    # Store the states\n",
        "    x_states.append(x)\n",
        "    y_states.append(y)"
      ],
      "metadata": {
        "id": "enQF9xSGmJbI"
      },
      "execution_count": 24,
      "outputs": []
    },
    {
      "cell_type": "code",
      "source": [
        "# Plot results\n",
        "plt.figure()\n",
        "plt.plot(X_d, Y_d, label=\"Desired Trajectory\", color='blue')\n",
        "plt.plot(x_states, y_states, label=\"Robot Trajectory\", linestyle='dotted', color='red')\n",
        "plt.xlabel('X')\n",
        "plt.ylabel('Y')\n",
        "plt.legend()\n",
        "plt.title('Closed-Loop Control: Desired vs. Robot Trajectory')\n",
        "plt.grid(True)\n",
        "plt.show()"
      ],
      "metadata": {
        "colab": {
          "base_uri": "https://localhost:8080/",
          "height": 472
        },
        "id": "23x_VdICmK4n",
        "outputId": "b423759a-8e9d-4659-feca-25c92f91830f"
      },
      "execution_count": 25,
      "outputs": [
        {
          "output_type": "display_data",
          "data": {
            "text/plain": [
              "<Figure size 640x480 with 1 Axes>"
            ],
            "image/png": "[encoded data removed]"
          },
          "metadata": {}
        }
      ]
    }
  ]
}