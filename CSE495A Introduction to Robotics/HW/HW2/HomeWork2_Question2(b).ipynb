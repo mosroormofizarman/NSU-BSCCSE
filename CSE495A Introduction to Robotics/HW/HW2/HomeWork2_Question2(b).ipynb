{
  "nbformat": 4,
  "nbformat_minor": 0,
  "metadata": {
    "colab": {
      "provenance": []
    },
    "kernelspec": {
      "name": "python3",
      "display_name": "Python 3"
    },
    "language_info": {
      "name": "python"
    }
  },
  "cells": [
    {
      "cell_type": "code",
      "execution_count": 30,
      "metadata": {
        "id": "CpJs4fU8XwFC"
      },
      "outputs": [],
      "source": [
        "import numpy as np\n",
        "import matplotlib.pyplot as plt"
      ]
    },
    {
      "cell_type": "code",
      "source": [
        "# Conditions\n",
        "x10, x1f = 0, 5\n",
        "y10, y1f = 0, 5\n",
        "v0, vf = 0.5, 0.5\n",
        "tht0, thtf = -np.pi/2, -np.pi/2\n",
        "T=15"
      ],
      "metadata": {
        "id": "MzRyPo_PY7Ej"
      },
      "execution_count": 31,
      "outputs": []
    },
    {
      "cell_type": "code",
      "source": [
        "# Basis matrix\n",
        "A = np.array([[1, 0, 0, 0, 0, 0, 0, 0],\n",
        "             [0, 1, 0, 0, 0, 0, 0, 0],\n",
        "             [0, 0, 0, 0, 1, 0, 0, 0],\n",
        "             [0, 0, 0, 0, 0, 1, 0, 0],\n",
        "             [1, T, T**2, T**3, 0, 0, 0, 0],\n",
        "             [0, 1, 2*T, 3*T**2, 0, 0, 0, 0],\n",
        "             [0, 0, 0, 0, 1, T, T**2, T**3],\n",
        "             [0, 0, 0, 0, 0, 1, 2*T, 3*T**2]])"
      ],
      "metadata": {
        "id": "LTx3EjhQa9Db"
      },
      "execution_count": 32,
      "outputs": []
    },
    {
      "cell_type": "code",
      "source": [
        "# Initialization\n",
        "z10 = x10\n",
        "z20 = y10\n",
        "zdot_10 = v0*np.cos(tht0)\n",
        "zdot_20 = v0*np.sin(tht0)\n",
        "z1f = x1f\n",
        "z2f = y1f\n",
        "zdot_1f = vf*np.cos(thtf)\n",
        "zdot_2f = vf*np.sin(thtf)"
      ],
      "metadata": {
        "id": "JADHMk1Jbkx8"
      },
      "execution_count": 33,
      "outputs": []
    },
    {
      "cell_type": "code",
      "source": [
        "# Values of b, A_inv and  alpha\n",
        "b = np.array([z10, zdot_10, z20, zdot_20, z1f, zdot_1f, z2f, zdot_2f])\n",
        "A_inv = np. linalg.pinv(A)\n",
        "alpha = np. linalg.solve(A, b)\n",
        "t = np.arange(0,15.1,0.1)"
      ],
      "metadata": {
        "id": "1bYeLhh5cgYT"
      },
      "execution_count": 34,
      "outputs": []
    },
    {
      "cell_type": "code",
      "source": [
        "# Values of z1, z2, z1_dot and z2_dot\n",
        "z1 = alpha[0] + alpha[1]*t + alpha[2]*t**2 + alpha[3]*t**3\n",
        "z2 = alpha[4] + alpha[5]*t + alpha[6]*t**2 + alpha[7]*t**3\n",
        "z1_dot = alpha[1] + 2*alpha[2]*t + 3*alpha[3]*t**2\n",
        "z2_dot = alpha[4] + 2*alpha[5]*t + 3*alpha[6]*t**2"
      ],
      "metadata": {
        "id": "IonoWk-OePhM"
      },
      "execution_count": 35,
      "outputs": []
    },
    {
      "cell_type": "code",
      "source": [
        "# plot\n",
        "fig = plt.figure()\n",
        "ax = fig.add_subplot(1, 1, 1)\n",
        "ax.plot(z1, z2)\n",
        "plt.xlabel('X')\n",
        "plt.ylabel('Y')\n",
        "plt.grid(True)\n",
        "plt.show()"
      ],
      "metadata": {
        "colab": {
          "base_uri": "https://localhost:8080/",
          "height": 449
        },
        "id": "i3hNxqh2huhV",
        "outputId": "ba45a805-8094-4553-f46a-d31f8ce59c37"
      },
      "execution_count": 37,
      "outputs": [
        {
          "output_type": "display_data",
          "data": {
            "text/plain": [
              "<Figure size 640x480 with 1 Axes>"
            ],
            "image/png": "[encoded data removed]"
          },
          "metadata": {}
        }
      ]
    }
  ]
}