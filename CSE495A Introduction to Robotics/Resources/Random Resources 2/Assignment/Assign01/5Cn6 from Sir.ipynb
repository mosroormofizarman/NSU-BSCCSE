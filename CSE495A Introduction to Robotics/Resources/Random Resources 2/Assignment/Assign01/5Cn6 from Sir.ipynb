{
  "nbformat": 4,
  "nbformat_minor": 0,
  "metadata": {
    "colab": {
      "provenance": []
    },
    "kernelspec": {
      "name": "python3",
      "display_name": "Python 3"
    },
    "language_info": {
      "name": "python"
    }
  },
  "cells": [
    {
      "cell_type": "code",
      "execution_count": null,
      "metadata": {
        "id": "TrMxejQCeYGX"
      },
      "outputs": [],
      "source": [
        "import numpy as np\n",
        "from matplotlib import pyplot as plt\n",
        "\n",
        "# Set pr5c = 1 to simulate problem 5c\n",
        "# Set pr5c = 0 to simulate problem 6\n",
        "pr5c = 1"
      ]
    },
    {
      "cell_type": "code",
      "source": [
        "# dt = time step, try different values to experiment\n",
        "dt = 0.01\n",
        "ti= 0; tf= 15;\n",
        "t = np.arange(ti, tf, dt)\n",
        "print(t)"
      ],
      "metadata": {
        "colab": {
          "base_uri": "https://localhost:8080/"
        },
        "id": "pWk3MAADevXS",
        "outputId": "c15dc328-f177-4043-f0e9-3f7983c7bed4"
      },
      "execution_count": null,
      "outputs": [
        {
          "output_type": "stream",
          "name": "stdout",
          "text": [
            "[0.000e+00 1.000e-02 2.000e-02 ... 1.497e+01 1.498e+01 1.499e+01]\n"
          ]
        }
      ]
    },
    {
      "cell_type": "code",
      "source": [
        "x_i = 0; y_i = 0; V_i = 0.5; theta = - np.pi / 2\n",
        "x_tf = 5; y_tf = 5; V_tf = 0.5; theta_tf = - np.pi / 2\n",
        "\n",
        "n = (tf - ti)/dt\n",
        "\n",
        "print(n)"
      ],
      "metadata": {
        "id": "7N_Rbi9ne1iq",
        "colab": {
          "base_uri": "https://localhost:8080/"
        },
        "outputId": "3db16438-cffc-474c-a43f-02c864f16cc7"
      },
      "execution_count": null,
      "outputs": [
        {
          "output_type": "stream",
          "name": "stdout",
          "text": [
            "1500.0\n"
          ]
        }
      ]
    },
    {
      "cell_type": "code",
      "source": [
        "array1 = [[1, 0, 0, 0, 0, 0, 0, 0],\n",
        "     [0, 1, 0, 0, 0, 0, 0, 0],\n",
        "     [0, 0, 0, 0, 1, 0, 0, 0],\n",
        "     [0, 0, 0, 0, 0, 1, 0, 0],\n",
        "     [1, tf, pow(tf,2), pow(tf,3), 0, 0, 0, 0],\n",
        "     [0, 1, 2*tf, 3*pow(tf,2), 0, 0, 0, 0],\n",
        "     [0, 0, 0, 0, 1, tf, pow(tf,2), pow(tf,3)],\n",
        "     [0, 0, 0, 0, 0, 1, 2*tf, 3*pow(tf,2)],\n",
        "     ]"
      ],
      "metadata": {
        "id": "0ZheOTFPffOA"
      },
      "execution_count": null,
      "outputs": []
    },
    {
      "cell_type": "code",
      "source": [
        "A = np.array(array1)"
      ],
      "metadata": {
        "id": "EXeYpBH0fjwA"
      },
      "execution_count": null,
      "outputs": []
    },
    {
      "cell_type": "code",
      "source": [
        "print(A)"
      ],
      "metadata": {
        "colab": {
          "base_uri": "https://localhost:8080/"
        },
        "id": "H2BWrRRAELG8",
        "outputId": "ff6948b9-2015-4bf1-fccb-ff7c805aa666"
      },
      "execution_count": null,
      "outputs": [
        {
          "output_type": "stream",
          "name": "stdout",
          "text": [
            "[[   1    0    0    0    0    0    0    0]\n",
            " [   0    1    0    0    0    0    0    0]\n",
            " [   0    0    0    0    1    0    0    0]\n",
            " [   0    0    0    0    0    1    0    0]\n",
            " [   1   15  225 3375    0    0    0    0]\n",
            " [   0    1   30  675    0    0    0    0]\n",
            " [   0    0    0    0    1   15  225 3375]\n",
            " [   0    0    0    0    0    1   30  675]]\n"
          ]
        }
      ]
    },
    {
      "cell_type": "code",
      "source": [
        "A_inv = np.linalg.inv(A)\n",
        "print(A_inv)"
      ],
      "metadata": {
        "colab": {
          "base_uri": "https://localhost:8080/"
        },
        "id": "c4KlY_zIflGE",
        "outputId": "542a70b0-8eb6-46bc-a543-e8148a0fcfe5"
      },
      "execution_count": null,
      "outputs": [
        {
          "output_type": "stream",
          "name": "stdout",
          "text": [
            "[[ 1.00000000e+00  0.00000000e+00  0.00000000e+00  0.00000000e+00\n",
            "   0.00000000e+00  0.00000000e+00  0.00000000e+00  0.00000000e+00]\n",
            " [ 0.00000000e+00  1.00000000e+00  0.00000000e+00  0.00000000e+00\n",
            "   0.00000000e+00  0.00000000e+00  0.00000000e+00  0.00000000e+00]\n",
            " [-1.33333333e-02 -1.33333333e-01 -0.00000000e+00 -0.00000000e+00\n",
            "   1.33333333e-02 -6.66666667e-02 -0.00000000e+00 -0.00000000e+00]\n",
            " [ 5.92592593e-04  4.44444444e-03  0.00000000e+00  0.00000000e+00\n",
            "  -5.92592593e-04  4.44444444e-03  0.00000000e+00  0.00000000e+00]\n",
            " [ 0.00000000e+00  0.00000000e+00  1.00000000e+00  0.00000000e+00\n",
            "   0.00000000e+00  0.00000000e+00  0.00000000e+00  0.00000000e+00]\n",
            " [ 0.00000000e+00  0.00000000e+00  0.00000000e+00  1.00000000e+00\n",
            "   0.00000000e+00  0.00000000e+00  0.00000000e+00  0.00000000e+00]\n",
            " [-0.00000000e+00 -0.00000000e+00 -1.33333333e-02 -1.33333333e-01\n",
            "  -0.00000000e+00 -0.00000000e+00  1.33333333e-02 -6.66666667e-02]\n",
            " [ 0.00000000e+00  0.00000000e+00  5.92592593e-04  4.44444444e-03\n",
            "   0.00000000e+00  0.00000000e+00 -5.92592593e-04  4.44444444e-03]]\n"
          ]
        }
      ]
    },
    {
      "cell_type": "code",
      "source": [
        "vector = [[x_i],\n",
        "     [0],\n",
        "     [y_i],\n",
        "     [- V_i],\n",
        "     [x_tf],\n",
        "     [0],\n",
        "     [y_tf],\n",
        "     [- V_tf]\n",
        "]"
      ],
      "metadata": {
        "id": "Z_fY-XSYflCY"
      },
      "execution_count": null,
      "outputs": []
    },
    {
      "cell_type": "code",
      "source": [
        "b = np.array(vector)\n",
        "print(b)"
      ],
      "metadata": {
        "colab": {
          "base_uri": "https://localhost:8080/"
        },
        "id": "Dd-Zlc3XflAE",
        "outputId": "84cf283f-630e-4487-d93b-350492640a00"
      },
      "execution_count": null,
      "outputs": [
        {
          "output_type": "stream",
          "name": "stdout",
          "text": [
            "[[ 0. ]\n",
            " [ 0. ]\n",
            " [ 0. ]\n",
            " [-0.5]\n",
            " [ 5. ]\n",
            " [ 0. ]\n",
            " [ 5. ]\n",
            " [-0.5]]\n"
          ]
        }
      ]
    },
    {
      "cell_type": "code",
      "source": [
        "x1 = np.dot(A_inv, b)"
      ],
      "metadata": {
        "id": "1Hxz_Wilfk-F"
      },
      "execution_count": null,
      "outputs": []
    },
    {
      "cell_type": "code",
      "source": [
        "print(x1)"
      ],
      "metadata": {
        "colab": {
          "base_uri": "https://localhost:8080/"
        },
        "id": "hK44_7ptfk5w",
        "outputId": "8c9dd877-3284-4f59-f93f-7ab706f4417d"
      },
      "execution_count": null,
      "outputs": [
        {
          "output_type": "stream",
          "name": "stdout",
          "text": [
            "[[ 0.        ]\n",
            " [ 0.        ]\n",
            " [ 0.06666667]\n",
            " [-0.00296296]\n",
            " [ 0.        ]\n",
            " [-0.5       ]\n",
            " [ 0.16666667]\n",
            " [-0.00740741]]\n"
          ]
        }
      ]
    },
    {
      "cell_type": "code",
      "source": [
        "a11 =0; a12 = 0; a13 = 0.06666667; a14 = -0.00296296; a21 = 0; a22 = -0.5   ; a23 = 0.16666667; a24 = -0.00740741"
      ],
      "metadata": {
        "id": "jodtcJGLrznG"
      },
      "execution_count": null,
      "outputs": []
    },
    {
      "cell_type": "code",
      "source": [
        "for i in t:\n",
        "\n",
        "  xd = (a11 + a12 * t + a13 * pow(t,2) + a14 * pow(t,3))\n",
        "  yd = (a21 + a22 * t + a23 * pow(t,2) + a24 * pow(t,3))"
      ],
      "metadata": {
        "id": "bW6hGLsgsJcx"
      },
      "execution_count": null,
      "outputs": []
    },
    {
      "cell_type": "code",
      "source": [
        "print(xd)"
      ],
      "metadata": {
        "colab": {
          "base_uri": "https://localhost:8080/"
        },
        "id": "ZT-3c48Kuanz",
        "outputId": "9937ae59-fd5f-4ad1-a5df-0f1012567431"
      },
      "execution_count": null,
      "outputs": [
        {
          "output_type": "stream",
          "name": "stdout",
          "text": [
            "[0.00000000e+00 6.66370404e-06 2.66429643e-05 ... 4.99995077e+00\n",
            " 4.99998407e+00 5.00000407e+00]\n"
          ]
        }
      ]
    },
    {
      "cell_type": "code",
      "source": [
        "print(yd)"
      ],
      "metadata": {
        "colab": {
          "base_uri": "https://localhost:8080/"
        },
        "id": "p2e6zJ0Vui17",
        "outputId": "1d733aaa-64cf-4d26-9330-69cfcd4ff732"
      },
      "execution_count": null,
      "outputs": [
        {
          "output_type": "stream",
          "name": "stdout",
          "text": [
            "[ 0.00000000e+00 -4.98334074e-03 -9.93339259e-03 ...  5.01484225e+00\n",
            "  5.00992543e+00  5.00497536e+00]\n"
          ]
        }
      ]
    },
    {
      "cell_type": "code",
      "source": [
        "plt.plot(xd,yd)\n",
        "plt.xlabel('x')\n",
        "plt.ylabel('y')\n",
        "plt.show()\n"
      ],
      "metadata": {
        "colab": {
          "base_uri": "https://localhost:8080/",
          "height": 449
        },
        "id": "IJKT7KjquqWE",
        "outputId": "e32c65e9-228b-4fe7-e42f-67cf11f0fea7"
      },
      "execution_count": null,
      "outputs": [
        {
          "output_type": "display_data",
          "data": {
            "text/plain": [
              "<Figure size 640x480 with 1 Axes>"
            ],
            "image/png": "[encoded data removed]"
          },
          "metadata": {}
        }
      ]
    },
    {
      "cell_type": "code",
      "source": [
        "for i in t:\n",
        "  xd_dot = (a12 + 2 * a13 * t + 3 * a14 * pow(t,2))\n",
        "  yd_dot = (a22 + 2 * a23 * t + 3 * a24 * pow(t,2))\n",
        "\n",
        "  xd_double_dot = (2 * a13 + 6 * a14 * t)\n",
        "  yd_double_dot = (2 * a23 + 6 * a24 * t)\n"
      ],
      "metadata": {
        "id": "nrn7U4pTFsbJ"
      },
      "execution_count": null,
      "outputs": []
    },
    {
      "cell_type": "code",
      "source": [
        "print(xd_dot)\n",
        "print(yd_dot)"
      ],
      "metadata": {
        "colab": {
          "base_uri": "https://localhost:8080/"
        },
        "id": "sCSqbrCivc3R",
        "outputId": "d52eef59-cfa8-48fb-e2fd-493e8720daaf"
      },
      "execution_count": null,
      "outputs": [
        {
          "output_type": "stream",
          "name": "stdout",
          "text": [
            "[0.         0.00133244 0.00266311 ... 0.00399409 0.00266521 0.00133454]\n",
            "[-0.5        -0.49666889 -0.49334222 ... -0.49002164 -0.49334387\n",
            " -0.49667054]\n"
          ]
        }
      ]
    },
    {
      "cell_type": "code",
      "source": [
        "# Calculate thetad\n",
        "vel = np.sqrt(pow(xd_dot,2)+pow(yd_dot,2))\n",
        "sin_theta = yd_dot / vel\n",
        "thetad = np.arcsin(sin_theta)"
      ],
      "metadata": {
        "id": "O9TkDuXWilgh"
      },
      "execution_count": null,
      "outputs": []
    },
    {
      "cell_type": "code",
      "source": [
        "print(thetad)"
      ],
      "metadata": {
        "colab": {
          "base_uri": "https://localhost:8080/"
        },
        "id": "FftwWUFWj9vg",
        "outputId": "19ab42ef-046c-4b52-dbef-11354f9b65ba"
      },
      "execution_count": null,
      "outputs": [
        {
          "output_type": "stream",
          "name": "stdout",
          "text": [
            "[-1.57079633 -1.56811357 -1.56539828 ... -1.56264566 -1.56539405\n",
            " -1.56810936]\n"
          ]
        }
      ]
    },
    {
      "cell_type": "code",
      "source": [
        "V = np.zeros((len(t),))\n",
        "x = np.zeros((len(t),))\n",
        "y = np.zeros((len(t),))\n",
        "x_dot = np.zeros((len(t),))\n",
        "y_dot = np.zeros((len(t),))\n",
        "theta = np.zeros((len(t),))\n",
        "a_t = np.zeros((len(t),))\n",
        "w_t = np.zeros((len(t),))"
      ],
      "metadata": {
        "id": "Ni1QDCe5pFQ2"
      },
      "execution_count": null,
      "outputs": []
    },
    {
      "cell_type": "code",
      "source": [
        "V[0] = 0.5\n",
        "theta[0] = -np.pi/2\n",
        "x[0] = 0\n",
        "y[0] = 0\n",
        "x_dot[0] = V[0]*np.cos(thetad[0])\n",
        "y_dot[0] = V[0]*np.sin(thetad[0])"
      ],
      "metadata": {
        "id": "QTH5bwbXpucg"
      },
      "execution_count": null,
      "outputs": []
    },
    {
      "cell_type": "code",
      "source": [
        "for i in range(0, int(n)-1):\n",
        " J = np.matrix([[np.cos(thetad[i]), -yd_dot[i]],[np.sin(thetad[i]), xd_dot[i]]])\n",
        " cntrl_vector = np.matmul(np.linalg.inv(J),np.array([xd_double_dot[i], yd_double_dot[i]]))\n",
        " a_t[i] = cntrl_vector.item(0)\n",
        " w_t[i] = cntrl_vector.item(1)\n",
        "\n",
        "# To run problem 5c, set pr5c =1\n",
        "# To run problem 6, set pr5c = 0\n",
        " if pr5c == 1:\n",
        "  V[i+1] = V[i] + dt*a_t[i]\n",
        "  theta[i+1] = theta[i] + dt * w_t[i]\n",
        " else:\n",
        "  #You can try different values for the standard deviation, to see the effect of noise on the robot\n",
        "  V[i+1] = V[i] + dt*a_t[i] + np.random.normal(0,0.01)\n",
        "  theta[i+1] = theta[i] + dt * w_t[i] + np.random.normal(0,0.001)\n",
        "\n",
        " x[i+1] = x[i] + x_dot[i]*dt\n",
        " y[i+1] = y[i]+ y_dot[i]*dt\n",
        "\n",
        " x_dot[i+1] = V[i+1]*np.cos(theta[i+1])\n",
        " y_dot[i+1] = V[i+1]*np.sin(theta[i+1])\n",
        "\n",
        "# plot the desired trajectory as blue line\n",
        "plt.plot(xd, yd, 'b')\n",
        "# plot the actual robot trajectory as red line\n",
        "plt.plot(x, y, 'r', alpha=0.5)\n",
        "# set the title\n",
        "plt.title('Desired Trajectory (Blue) vs Robot Actual Trajectory (Red)')\n",
        "# show the plot\n",
        "plt.show()"
      ],
      "metadata": {
        "id": "Qcv7nOWkk63X",
        "colab": {
          "base_uri": "https://localhost:8080/",
          "height": 452
        },
        "outputId": "76d42775-95c8-48fb-dcf6-45c1f0ae92d6"
      },
      "execution_count": null,
      "outputs": [
        {
          "output_type": "display_data",
          "data": {
            "text/plain": [
              "<Figure size 640x480 with 1 Axes>"
            ],
            "image/png": "[encoded data removed]"
          },
          "metadata": {}
        }
      ]
    }
  ]
}