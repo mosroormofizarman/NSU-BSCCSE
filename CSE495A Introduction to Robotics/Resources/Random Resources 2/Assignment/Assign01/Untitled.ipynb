{
 "cells": [
  {
   "cell_type": "code",
   "execution_count": 2,
   "id": "3fd5371a-954d-4447-8f35-362909c13747",
   "metadata": {},
   "outputs": [
    {
     "ename": "SyntaxError",
     "evalue": "invalid syntax (1167711893.py, line 38)",
     "output_type": "error",
     "traceback": [
      "\u001b[1;36m  Cell \u001b[1;32mIn[2], line 38\u001b[1;36m\u001b[0m\n\u001b[1;33m    a_t = # Calculate a(t) without noise\u001b[0m\n\u001b[1;37m          ^\u001b[0m\n\u001b[1;31mSyntaxError\u001b[0m\u001b[1;31m:\u001b[0m invalid syntax\n"
     ]
    }
   ],
   "source": [
    "# Simulate a differentially flat system with noise\n",
    "\n",
    "# Import necessary libraries\n",
    "import numpy as np\n",
    "import matplotlib.pyplot as plt\n",
    "\n",
    "# Define initial conditions\n",
    "x0 = 0.0\n",
    "y0 = 0.0\n",
    "V0 = 0.5\n",
    "theta0 = -np.pi / 2 # Initial angle in radians\n",
    "tf = 15.0 # Final time\n",
    "Dt = 0.01 # Time step\n",
    "timesteps = int(tf / Dt)\n",
    "\n",
    "# Initialize arrays to store state variables\n",
    "x = np.zeros(timesteps)\n",
    "y = np.zeros(timesteps)\n",
    "V = np.zeros(timesteps)\n",
    "theta = np.zeros(timesteps)\n",
    "\n",
    "# Initialize the state variables with the initial conditions\n",
    "x[0] = x0\n",
    "y[0] = y0\n",
    "V[0] = V0\n",
    "theta[0] = theta0\n",
    "\n",
    "# Define noise parameters\n",
    "noise_std_dev_for_V = 0.01 # Standard deviation of noise for V\n",
    "noise_std_dev_for_theta = 0.001 # Standard deviation of noise for theta\n",
    "\n",
    "# Main simulation loop\n",
    "for i in range(1, timesteps):\n",
    "\n",
    "    # Calculate control inputs a(t) and omega(t) without noise (use the open-loop\n",
    "    # controller)\n",
    "    # Replace the following lines with your control input calculations from problem 5(c)\n",
    "    a_t = # Calculate a(t) without noise\n",
    "    omega_t = # Calculate omega(t) without noise\n",
    "\n",
    "    # Inject noise into the control inputs\n",
    "    noise_V = noise_std_dev_for_V * np.random.randn()\n",
    "    noise_theta = noise_std_dev_for_theta * np.random.randn()\n",
    "    a_with_noise = a_t + noise_V\n",
    "    omega_with_noise = omega_t + noise_theta\n",
    "\n",
    "    # Integrate the state equations with Euler's method\n",
    "    x_dot = V[i - 1] * np.cos(theta[i - 1])\n",
    "    y_dot = V[i - 1] * np.sin(theta[i - 1])\n",
    "    V_dot = a_with_noise\n",
    "    theta_dot = omega_with_noise\n",
    "    x[i] = x[i - 1] + x_dot * Dt\n",
    "    y[i] = y[i - 1] + y_dot * Dt\n",
    "    V[i] = V[i - 1] + V_dot * Dt\n",
    "    theta[i] = theta[i - 1] + theta_dot * Dt\n",
    "\n",
    "# Plot the resulting trajectory\n",
    "plt.figure(figsize=(10, 6))\n",
    "plt.plot(x, y, label='Robot Trajectory with Noise')\n",
    "plt.xlabel('X')\n",
    "plt.ylabel('Y')\n",
    "plt.title('Robot Trajectory with Noise')\n",
    "plt.legend()\n",
    "plt.grid(True)\n",
    "plt.show()\n",
    "\n",
    "# Plot the desired trajectory, if available\n",
    "# ...\n"
   ]
  },
  {
   "cell_type": "code",
   "execution_count": null,
   "id": "27de6c2d-25ba-4644-8df1-65e76076a452",
   "metadata": {},
   "outputs": [],
   "source": []
  }
 ],
 "metadata": {
  "kernelspec": {
   "display_name": "Python 3 (ipykernel)",
   "language": "python",
   "name": "python3"
  },
  "language_info": {
   "codemirror_mode": {
    "name": "ipython",
    "version": 3
   },
   "file_extension": ".py",
   "mimetype": "text/x-python",
   "name": "python",
   "nbconvert_exporter": "python",
   "pygments_lexer": "ipython3",
   "version": "3.11.4"
  }
 },
 "nbformat": 4,
 "nbformat_minor": 5
}
