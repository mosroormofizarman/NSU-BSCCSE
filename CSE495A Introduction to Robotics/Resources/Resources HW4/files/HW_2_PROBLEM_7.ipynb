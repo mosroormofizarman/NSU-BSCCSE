{
 "cells": [
  {
   "cell_type": "code",
   "execution_count": 1,
   "metadata": {
    "id": "BmzizVXouHtg"
   },
   "outputs": [],
   "source": [
    "import numpy as np\n",
    "import matplotlib.pyplot as plt"
   ]
  },
  {
   "cell_type": "markdown",
   "metadata": {
    "id": "NQsbC1Gl7gZ7"
   },
   "source": [
    "# Set Kp=1 , Kd=2   **( noise_std_v = 0.01 , noise_std_theta = 0.001 )**\n"
   ]
  },
  {
   "cell_type": "code",
   "execution_count": 2,
   "metadata": {
    "colab": {
     "base_uri": "https://localhost:8080/"
    },
    "id": "DGfyqLmLuKkY",
    "outputId": "59c4fb18-9629-4e8b-ca7f-2ae06c5fdf65"
   },
   "outputs": [
    {
     "data": {
      "text/plain": [
       "array([0.000e+00, 1.000e-02, 2.000e-02, ..., 1.497e+01, 1.498e+01,\n",
       "       1.499e+01])"
      ]
     },
     "execution_count": 2,
     "metadata": {},
     "output_type": "execute_result"
    }
   ],
   "source": [
    "# time vector\n",
    "t = np.arange(0, 15, 0.01)  # time step\n",
    "T = 15\n",
    "\n",
    "t\n"
   ]
  },
  {
   "cell_type": "code",
   "execution_count": 3,
   "metadata": {
    "colab": {
     "base_uri": "https://localhost:8080/"
    },
    "id": "XrlvfdHjuOw0",
    "outputId": "905865ce-a356-4d80-8647-de1fdf559847"
   },
   "outputs": [
    {
     "data": {
      "text/plain": [
       "array([[   1,    0,    0,    0,    0,    0,    0,    0],\n",
       "       [   0,    1,    0,    0,    0,    0,    0,    0],\n",
       "       [   0,    0,    0,    0,    1,    0,    0,    0],\n",
       "       [   0,    0,    0,    0,    0,    1,    0,    0],\n",
       "       [   1,   15,  225, 3375,    0,    0,    0,    0],\n",
       "       [   0,    1,   30,  675,    0,    0,    0,    0],\n",
       "       [   0,    0,    0,    0,    1,   15,  225, 3375],\n",
       "       [   0,    0,    0,    0,    0,    1,   30,  675]])"
      ]
     },
     "execution_count": 3,
     "metadata": {},
     "output_type": "execute_result"
    }
   ],
   "source": [
    "#  matrix A\n",
    "A = np.array([\n",
    "    [1, 0, 0, 0, 0, 0, 0, 0],\n",
    "    [0, 1, 0, 0, 0, 0, 0, 0],\n",
    "    [0, 0, 0, 0, 1, 0, 0, 0],\n",
    "    [0, 0, 0, 0, 0, 1, 0, 0],\n",
    "    [1, T, T**2, T**3, 0, 0, 0, 0],\n",
    "    [0, 1, 2*T, 3*T**2, 0, 0, 0, 0],\n",
    "    [0, 0, 0, 0, 1, T, T**2, T**3],\n",
    "    [0, 0, 0, 0, 0, 1, 2*T, 3*T**2]\n",
    "])\n",
    "\n",
    "A"
   ]
  },
  {
   "cell_type": "code",
   "execution_count": 4,
   "metadata": {
    "colab": {
     "base_uri": "https://localhost:8080/"
    },
    "id": "3HC-sZoOuSKw",
    "outputId": "ba5145c2-b447-41e6-e6f5-9a7cefdf4535"
   },
   "outputs": [
    {
     "data": {
      "text/plain": [
       "array([[ 1.00000000e+00,  6.58070820e-13,  0.00000000e+00,\n",
       "         0.00000000e+00, -8.64325972e-16,  3.91841507e-15,\n",
       "         0.00000000e+00,  0.00000000e+00],\n",
       "       [ 4.16333634e-17,  1.00000000e+00,  0.00000000e+00,\n",
       "         0.00000000e+00, -1.00180281e-16,  1.21430643e-17,\n",
       "         0.00000000e+00,  0.00000000e+00],\n",
       "       [-1.33333333e-02, -1.33333333e-01,  0.00000000e+00,\n",
       "         0.00000000e+00,  1.33333333e-02, -6.66666667e-02,\n",
       "         0.00000000e+00,  0.00000000e+00],\n",
       "       [ 5.92592593e-04,  4.44444444e-03,  0.00000000e+00,\n",
       "         0.00000000e+00, -5.92592593e-04,  4.44444444e-03,\n",
       "         0.00000000e+00,  0.00000000e+00],\n",
       "       [ 4.38264820e-17, -1.56199568e-17,  1.00000000e+00,\n",
       "         4.13738488e-13, -4.38264820e-17,  2.19459069e-16,\n",
       "         3.73236598e-16, -9.14524532e-16],\n",
       "       [-3.59628264e-18, -8.65405541e-17, -1.66533454e-16,\n",
       "         1.00000000e+00,  3.59628264e-18, -1.80076414e-17,\n",
       "        -3.85975973e-17,  7.75421394e-16],\n",
       "       [-1.03997980e-19,  1.18523646e-17, -1.33333333e-02,\n",
       "        -1.33333333e-01,  1.03997980e-19, -5.20842611e-19,\n",
       "         1.33333333e-02, -6.66666667e-02],\n",
       "       [ 9.93178042e-21, -4.00814858e-19,  5.92592593e-04,\n",
       "         4.44444444e-03, -9.93178042e-21,  4.97355363e-20,\n",
       "        -5.92592593e-04,  4.44444444e-03]])"
      ]
     },
     "execution_count": 4,
     "metadata": {},
     "output_type": "execute_result"
    }
   ],
   "source": [
    "# pseudo-inverse of A\n",
    "Ainv = np.linalg.pinv(A)\n",
    "\n",
    "Ainv"
   ]
  },
  {
   "cell_type": "code",
   "execution_count": 5,
   "metadata": {
    "colab": {
     "base_uri": "https://localhost:8080/"
    },
    "id": "OtXZw3gkuXvQ",
    "outputId": "6b17ffa6-2e90-4278-bdde-ba0bbd9a4997"
   },
   "outputs": [
    {
     "data": {
      "text/plain": [
       "array([ 0. ,  0. ,  0. , -0.5,  5. ,  0. ,  5. , -0.5])"
      ]
     },
     "execution_count": 5,
     "metadata": {},
     "output_type": "execute_result"
    }
   ],
   "source": [
    "# vector b\n",
    "b = np.array([0, 0, 0, -0.5, 5, 0, 5, -0.5])\n",
    "b"
   ]
  },
  {
   "cell_type": "code",
   "execution_count": 6,
   "metadata": {
    "colab": {
     "base_uri": "https://localhost:8080/"
    },
    "id": "gR-f2YAHua0D",
    "outputId": "bf93d816-66d0-40e4-d5fd-c8b90415f928"
   },
   "outputs": [
    {
     "data": {
      "text/plain": [
       "array([-4.32162986e-15, -5.00901404e-16,  6.66666667e-02, -2.96296296e-03,\n",
       "       -2.04764931e-13, -5.00000000e-01,  1.66666667e-01, -7.40740741e-03])"
      ]
     },
     "execution_count": 6,
     "metadata": {},
     "output_type": "execute_result"
    }
   ],
   "source": [
    "# Cefficients using matrix multiplication\n",
    "x = np.matmul(Ainv, b)\n",
    "x"
   ]
  },
  {
   "cell_type": "code",
   "execution_count": 7,
   "metadata": {
    "colab": {
     "base_uri": "https://localhost:8080/"
    },
    "id": "ZxMGEhgfueje",
    "outputId": "2a2a6dde-84dd-4350-81f4-9a6a82a6f066"
   },
   "outputs": [
    {
     "data": {
      "text/plain": [
       "array([-4.32162986e-15, -5.00901404e-16,  6.66666667e-02, -2.96296296e-03,\n",
       "       -2.04764931e-13, -5.00000000e-01,  1.66666667e-01, -7.40740741e-03])"
      ]
     },
     "execution_count": 7,
     "metadata": {},
     "output_type": "execute_result"
    }
   ],
   "source": [
    "# Extracting coefficients\n",
    "a11, a12, a13, a14, a21, a22, a23, a24 = x\n",
    "x"
   ]
  },
  {
   "cell_type": "code",
   "execution_count": 8,
   "metadata": {
    "colab": {
     "base_uri": "https://localhost:8080/"
    },
    "id": "7l7D4d18uhSO",
    "outputId": "db96b9de-bc66-4e69-b1f4-d84f6964b1dc"
   },
   "outputs": [
    {
     "data": {
      "text/plain": [
       "array([-2.04764931e-13, -4.98334074e-03, -9.93339259e-03, ...,\n",
       "        5.01485020e+00,  5.00993339e+00,  5.00498334e+00])"
      ]
     },
     "execution_count": 8,
     "metadata": {},
     "output_type": "execute_result"
    }
   ],
   "source": [
    "# Calculating X and Y with polynomial equations\n",
    "X_desired = a11 + a12 * t + a13 * t**2 + a14 * t**3\n",
    "Y_desired = a21 + a22 * t + a23 * t**2 + a24 * t**3\n",
    "X_desired\n",
    "Y_desired"
   ]
  },
  {
   "cell_type": "code",
   "execution_count": 9,
   "metadata": {
    "colab": {
     "base_uri": "https://localhost:8080/"
    },
    "id": "64JCDXc3ujvV",
    "outputId": "1893b801-883f-4624-c98b-8bae1b27224c"
   },
   "outputs": [
    {
     "name": "stdout",
     "output_type": "stream",
     "text": [
      "x_double_dot values:\n",
      "[ 0.06657778  0.09982222  0.13297778 ... -0.1328     -0.09968889\n",
      " -0.06648889]\n",
      "y_double_dot values:\n",
      "[ 0.16644444  0.24955556  0.33244444 ... -0.332      -0.24922222\n",
      " -0.16622222]\n",
      "Initial robot state values:\n",
      "x_robot: -4.321629859527221e-15\n",
      "y_robot: -2.0476493111153668e-13\n",
      "theta_robot: -1.5694591315119313\n",
      "V_robot: 0.498334519607811\n",
      "Noise standard deviations:\n",
      "noise_std_v: 0.01\n",
      "noise_std_theta: 0.001\n"
     ]
    }
   ],
   "source": [
    "# Calculating x_double_dot and y_double_dot from the trajectory\n",
    "x_double_dot = np.gradient(np.gradient(X_desired, t), t)\n",
    "y_double_dot = np.gradient(np.gradient(Y_desired, t), t)\n",
    "\n",
    "print(\"x_double_dot values:\")\n",
    "print(x_double_dot)\n",
    "print(\"y_double_dot values:\")\n",
    "print(y_double_dot)\n",
    "\n",
    "# robot states\n",
    "x_robot = X_desired[0]\n",
    "y_robot = Y_desired[0]\n",
    "theta_robot = np.arctan2(np.gradient(Y_desired, t)[0], np.gradient(X_desired, t)[0])\n",
    "V_robot = np.sqrt(np.gradient(X_desired, t)[0]**2 + np.gradient(Y_desired, t)[0]**2)\n",
    "\n",
    "print(\"Initial robot state values:\")\n",
    "print(\"x_robot:\", x_robot)\n",
    "print(\"y_robot:\", y_robot)\n",
    "print(\"theta_robot:\", theta_robot)\n",
    "print(\"V_robot:\", V_robot)\n",
    "\n",
    "# store robot states\n",
    "x_robot_states = [x_robot]\n",
    "y_robot_states = [y_robot]\n",
    "\n",
    "noise_std_v = 0.01\n",
    "noise_std_theta = 0.001\n",
    "\n",
    "print(\"Noise standard deviations:\")\n",
    "print(\"noise_std_v:\", noise_std_v)\n",
    "print(\"noise_std_theta:\", noise_std_theta)\n"
   ]
  },
  {
   "cell_type": "code",
   "execution_count": 10,
   "metadata": {
    "colab": {
     "base_uri": "https://localhost:8080/"
    },
    "id": "VkG0hqHWuqFb",
    "outputId": "cf12d627-6cbd-4482-cc37-c0366ad6a3a8"
   },
   "outputs": [
    {
     "name": "stdout",
     "output_type": "stream",
     "text": [
      "Proportional and derivative gains:\n",
      "kpx: 1\n",
      "kpy: 1\n",
      "kdx: 2\n",
      "kdy: 2\n"
     ]
    }
   ],
   "source": [
    "# Set Proportional and derivative gains\n",
    "kpx = 1\n",
    "kpy = 1\n",
    "kdx = 2\n",
    "kdy = 2\n",
    "\n",
    "print(\"Proportional and derivative gains:\")\n",
    "print(\"kpx:\", kpx)\n",
    "print(\"kpy:\", kpy)\n",
    "print(\"kdx:\", kdx)\n",
    "print(\"kdy:\", kdy)\n"
   ]
  },
  {
   "cell_type": "code",
   "execution_count": 11,
   "metadata": {
    "colab": {
     "base_uri": "https://localhost:8080/",
     "height": 472
    },
    "id": "BJizyarT0zbv",
    "outputId": "465f73ca-cc04-4ff1-a9bb-126f545db928"
   },
   "outputs": [
    {
     "data": {
      "image/png": "[encoded data removed]",
      "text/plain": [
       "<Figure size 640x480 with 1 Axes>"
      ]
     },
     "metadata": {},
     "output_type": "display_data"
    }
   ],
   "source": [
    "# the unicycle equations using Euler's method\n",
    "for i in range(1, len(t)):\n",
    "    # Calculating error terms\n",
    "    x_error = x_robot - X_desired[i]\n",
    "    y_error = y_robot - Y_desired[i]\n",
    "    x_dot_error = V_robot * np.cos(theta_robot) - np.gradient(X_desired, t)[i]\n",
    "    y_dot_error = V_robot * np.sin(theta_robot) - np.gradient(Y_desired, t)[i]\n",
    "\n",
    "    # Calculating control inputs using the closed-loop controller with matrix inverse\n",
    "    A_inv = np.linalg.inv(np.array([\n",
    "        [np.cos(theta_robot), -V_robot * np.sin(theta_robot)],\n",
    "        [np.sin(theta_robot), V_robot * np.cos(theta_robot)]\n",
    "    ]))\n",
    "    b = np.array([\n",
    "        x_double_dot[i] - kpx * x_error - kdx * x_dot_error,\n",
    "        y_double_dot[i] - kpy * y_error - kdy * y_dot_error\n",
    "    ])\n",
    "    control_inputs = np.matmul(A_inv, b)\n",
    "\n",
    "    # Extracting control inputs\n",
    "    a = control_inputs[0]\n",
    "    omega = control_inputs[1]\n",
    "\n",
    "    # Adding noise to V and theta\n",
    "    V_robot += a * (t[i] - t[i-1]) + np.random.normal(0, noise_std_v)\n",
    "    theta_robot += omega * (t[i] - t[i-1]) + np.random.normal(0, noise_std_theta)\n",
    "\n",
    "    # Update robot states\n",
    "    x_robot += V_robot * np.cos(theta_robot) * (t[i] - t[i-1])\n",
    "    y_robot += V_robot * np.sin(theta_robot) * (t[i] - t[i-1])\n",
    "\n",
    "    x_robot_states.append(x_robot)\n",
    "    y_robot_states.append(y_robot)\n",
    "\n",
    "# Plot the desired trajectory and robot trajectory for Kp = 1 and Kd = 2\n",
    "plt.figure()\n",
    "plt.plot(X_desired, Y_desired, label='Desired Trajectory', color='blue')\n",
    "plt.plot(x_robot_states, y_robot_states, label='Robot Trajectory (Kp=1, Kd=2)', linestyle='--', color='red')\n",
    "plt.xlabel('X')\n",
    "plt.ylabel('Y')\n",
    "plt.legend()\n",
    "plt.title('Desired and Robot Trajectories (Kp=1, Kd=2)')\n",
    "plt.grid(True)\n",
    "plt.show()"
   ]
  },
  {
   "cell_type": "markdown",
   "metadata": {
    "id": "rKLtrt1Z_MG5"
   },
   "source": [
    "# Set Kp=4 , Kd=4 (**noise_std_v = 0.01 noise_std_theta = 0.001**)\n",
    "\n"
   ]
  },
  {
   "cell_type": "code",
   "execution_count": 30,
   "metadata": {
    "colab": {
     "base_uri": "https://localhost:8080/"
    },
    "id": "bE_KYt647e_Q",
    "outputId": "3e8eccd3-171d-4a7a-ddf6-75478c0d6182"
   },
   "outputs": [
    {
     "name": "stdout",
     "output_type": "stream",
     "text": [
      "x_double_dot values:\n",
      "[ 0.06657778  0.09982222  0.13297778 ... -0.1328     -0.09968889\n",
      " -0.06648889]\n",
      "y_double_dot values:\n",
      "[ 0.16644444  0.24955556  0.33244444 ... -0.332      -0.24922222\n",
      " -0.16622222]\n",
      "Initial robot state values:\n",
      "x_robot: -4.321629859527221e-15\n",
      "y_robot: -2.0476493111153668e-13\n",
      "theta_robot: -1.5694591315119313\n",
      "V_robot: 0.498334519607811\n",
      "Noise standard deviations:\n",
      "noise_std_v: 0.01\n",
      "noise_std_theta: 0.001\n"
     ]
    }
   ],
   "source": [
    "import numpy as np\n",
    "import matplotlib.pyplot as plt\n",
    "\n",
    "# time vector\n",
    "t = np.arange(0, 15, 0.01)  # time step\n",
    "T = 15\n",
    "\n",
    "#  matrix A\n",
    "A = np.array([\n",
    "    [1, 0, 0, 0, 0, 0, 0, 0],\n",
    "    [0, 1, 0, 0, 0, 0, 0, 0],\n",
    "    [0, 0, 0, 0, 1, 0, 0, 0],\n",
    "    [0, 0, 0, 0, 0, 1, 0, 0],\n",
    "    [1, T, T**2, T**3, 0, 0, 0, 0],\n",
    "    [0, 1, 2*T, 3*T**2, 0, 0, 0, 0],\n",
    "    [0, 0, 0, 0, 1, T, T**2, T**3],\n",
    "    [0, 0, 0, 0, 0, 1, 2*T, 3*T**2]\n",
    "])\n",
    "\n",
    "\n",
    "# pseudo-inverse of A\n",
    "Ainv = np.linalg.pinv(A)\n",
    "\n",
    "# vector b\n",
    "b = np.array([0, 0, 0, -0.5, 5, 0, 5, -0.5])\n",
    "\n",
    "# Cefficients using matrix multiplication\n",
    "x = np.matmul(Ainv, b)\n",
    "\n",
    "# Extracting coefficients\n",
    "a11, a12, a13, a14, a21, a22, a23, a24 = x\n",
    "\n",
    "# Calculating X and Y with polynomial equations\n",
    "X_desired = a11 + a12 * t + a13 * t**2 + a14 * t**3\n",
    "Y_desired = a21 + a22 * t + a23 * t**2 + a24 * t**3\n",
    "X_desired\n",
    "Y_desired\n",
    "\n",
    "# Calculating x_double_dot and y_double_dot from the trajectory\n",
    "x_double_dot = np.gradient(np.gradient(X_desired, t), t)\n",
    "y_double_dot = np.gradient(np.gradient(Y_desired, t), t)\n",
    "\n",
    "print(\"x_double_dot values:\")\n",
    "print(x_double_dot)\n",
    "print(\"y_double_dot values:\")\n",
    "print(y_double_dot)\n",
    "\n",
    "# robot states\n",
    "x_robot = X_desired[0]\n",
    "y_robot = Y_desired[0]\n",
    "theta_robot = np.arctan2(np.gradient(Y_desired, t)[0], np.gradient(X_desired, t)[0])\n",
    "V_robot = np.sqrt(np.gradient(X_desired, t)[0]**2 + np.gradient(Y_desired, t)[0]**2)\n",
    "\n",
    "print(\"Initial robot state values:\")\n",
    "print(\"x_robot:\", x_robot)\n",
    "print(\"y_robot:\", y_robot)\n",
    "print(\"theta_robot:\", theta_robot)\n",
    "print(\"V_robot:\", V_robot)\n",
    "\n",
    "# store robot states\n",
    "x_robot_states = [x_robot]\n",
    "y_robot_states = [y_robot]\n",
    "\n",
    "noise_std_v = 0.01\n",
    "noise_std_theta = 0.001\n",
    "\n",
    "print(\"Noise standard deviations:\")\n",
    "print(\"noise_std_v:\", noise_std_v)\n",
    "print(\"noise_std_theta:\", noise_std_theta)\n",
    "\n",
    "\n",
    "\n",
    "\n",
    "\n"
   ]
  },
  {
   "cell_type": "code",
   "execution_count": 31,
   "metadata": {
    "colab": {
     "base_uri": "https://localhost:8080/"
    },
    "id": "CmF8xQHgAIaA",
    "outputId": "2e552935-7c4a-4650-e3ff-2f479002cb4e"
   },
   "outputs": [
    {
     "name": "stdout",
     "output_type": "stream",
     "text": [
      "Proportional and derivative gains:\n",
      "kpx: 4\n",
      "kpy: 4\n",
      "kdx: 4\n",
      "kdy: 4\n"
     ]
    }
   ],
   "source": [
    "# Set Proportional and derivative gains\n",
    "kpx = 4\n",
    "kpy = 4\n",
    "kdx = 4\n",
    "kdy = 4\n",
    "\n",
    "print(\"Proportional and derivative gains:\")\n",
    "print(\"kpx:\", kpx)\n",
    "print(\"kpy:\", kpy)\n",
    "print(\"kdx:\", kdx)\n",
    "print(\"kdy:\", kdy)"
   ]
  },
  {
   "cell_type": "code",
   "execution_count": 32,
   "metadata": {
    "colab": {
     "base_uri": "https://localhost:8080/",
     "height": 472
    },
    "id": "garM7QJPANj-",
    "outputId": "7d47e559-7162-43fa-b69f-d8ba1d6061c3"
   },
   "outputs": [
    {
     "data": {
      "image/png": "[encoded data removed]",
      "text/plain": [
       "<Figure size 640x480 with 1 Axes>"
      ]
     },
     "metadata": {},
     "output_type": "display_data"
    }
   ],
   "source": [
    "# the unicycle equations using Euler's method\n",
    "for i in range(1, len(t)):\n",
    "    # Calculating error terms\n",
    "    x_error = x_robot - X_desired[i]\n",
    "    y_error = y_robot - Y_desired[i]\n",
    "    x_dot_error = V_robot * np.cos(theta_robot) - np.gradient(X_desired, t)[i]\n",
    "    y_dot_error = V_robot * np.sin(theta_robot) - np.gradient(Y_desired, t)[i]\n",
    "\n",
    "    # Calculating control inputs using the closed-loop controller with matrix inverse\n",
    "    A_inv = np.linalg.inv(np.array([\n",
    "        [np.cos(theta_robot), -V_robot * np.sin(theta_robot)],\n",
    "        [np.sin(theta_robot), V_robot * np.cos(theta_robot)]\n",
    "    ]))\n",
    "    b = np.array([\n",
    "        x_double_dot[i] - kpx * x_error - kdx * x_dot_error,\n",
    "        y_double_dot[i] - kpy * y_error - kdy * y_dot_error\n",
    "    ])\n",
    "    control_inputs = np.matmul(A_inv, b)\n",
    "\n",
    "    # Extracting control inputs\n",
    "    a = control_inputs[0]\n",
    "    omega = control_inputs[1]\n",
    "\n",
    "    # Adding noise to V and theta\n",
    "    V_robot += a * (t[i] - t[i-1]) + np.random.normal(0, noise_std_v)\n",
    "    theta_robot += omega * (t[i] - t[i-1]) + np.random.normal(0, noise_std_theta)\n",
    "\n",
    "    # Update robot states\n",
    "    x_robot += V_robot * np.cos(theta_robot) * (t[i] - t[i-1])\n",
    "    y_robot += V_robot * np.sin(theta_robot) * (t[i] - t[i-1])\n",
    "\n",
    "    x_robot_states.append(x_robot)\n",
    "    y_robot_states.append(y_robot)\n",
    "\n",
    "# Plot the desired trajectory and robot trajectory for Kp = 4 and Kd = 4\n",
    "plt.figure()\n",
    "plt.plot(X_desired, Y_desired, label='Desired Trajectory', color='blue')\n",
    "plt.plot(x_robot_states, y_robot_states, label='Robot Trajectory (Kp=4, Kd=4)', linestyle='--', color='red')\n",
    "plt.xlabel('X')\n",
    "plt.ylabel('Y')\n",
    "plt.legend()\n",
    "plt.title('Desired and Robot Trajectories (Kp=4, Kd=4)')\n",
    "plt.grid(True)\n",
    "plt.show()"
   ]
  },
  {
   "cell_type": "markdown",
   "metadata": {
    "id": "XsF6ZtKsCgdt"
   },
   "source": [
    "# Set Kp=4 , Kd=4 (**noise_std_v = 0.01; noise_std_theta = 0.1**)\n",
    "\n"
   ]
  },
  {
   "cell_type": "code",
   "execution_count": 34,
   "metadata": {
    "colab": {
     "base_uri": "https://localhost:8080/",
     "height": 802
    },
    "id": "RnzshRF9GzjK",
    "outputId": "5c85ac76-7484-4e8e-c703-a54caad73d0a"
   },
   "outputs": [
    {
     "name": "stdout",
     "output_type": "stream",
     "text": [
      "x_double_dot values:\n",
      "[ 0.06657778  0.09982222  0.13297778 ... -0.1328     -0.09968889\n",
      " -0.06648889]\n",
      "y_double_dot values:\n",
      "[ 0.16644444  0.24955556  0.33244444 ... -0.332      -0.24922222\n",
      " -0.16622222]\n",
      "Initial robot state values:\n",
      "x_robot: -4.321629859527221e-15\n",
      "y_robot: -2.0476493111153668e-13\n",
      "theta_robot: -1.5694591315119313\n",
      "V_robot: 0.498334519607811\n",
      "Noise standard deviations:\n",
      "noise_std_v: 0.01\n",
      "noise_std_theta: 0.1\n",
      "Proportional and derivative gains:\n",
      "kpx: 4\n",
      "kpy: 4\n",
      "kdx: 4\n",
      "kdy: 4\n"
     ]
    },
    {
     "data": {
      "image/png": "[encoded data removed]",
      "text/plain": [
       "<Figure size 640x480 with 1 Axes>"
      ]
     },
     "metadata": {},
     "output_type": "display_data"
    }
   ],
   "source": [
    "import numpy as np\n",
    "import matplotlib.pyplot as plt\n",
    "\n",
    "# time vector\n",
    "t = np.arange(0, 15, 0.01)  # time step\n",
    "T = 15\n",
    "\n",
    "#  matrix A\n",
    "A = np.array([\n",
    "    [1, 0, 0, 0, 0, 0, 0, 0],\n",
    "    [0, 1, 0, 0, 0, 0, 0, 0],\n",
    "    [0, 0, 0, 0, 1, 0, 0, 0],\n",
    "    [0, 0, 0, 0, 0, 1, 0, 0],\n",
    "    [1, T, T**2, T**3, 0, 0, 0, 0],\n",
    "    [0, 1, 2*T, 3*T**2, 0, 0, 0, 0],\n",
    "    [0, 0, 0, 0, 1, T, T**2, T**3],\n",
    "    [0, 0, 0, 0, 0, 1, 2*T, 3*T**2]\n",
    "])\n",
    "\n",
    "\n",
    "# pseudo-inverse of A\n",
    "Ainv = np.linalg.pinv(A)\n",
    "\n",
    "# vector b\n",
    "b = np.array([0, 0, 0, -0.5, 5, 0, 5, -0.5])\n",
    "\n",
    "# Cefficients using matrix multiplication\n",
    "x = np.matmul(Ainv, b)\n",
    "\n",
    "# Extracting coefficients\n",
    "a11, a12, a13, a14, a21, a22, a23, a24 = x\n",
    "\n",
    "# Calculating X and Y with polynomial equations\n",
    "X_desired = a11 + a12 * t + a13 * t**2 + a14 * t**3\n",
    "Y_desired = a21 + a22 * t + a23 * t**2 + a24 * t**3\n",
    "X_desired\n",
    "Y_desired\n",
    "\n",
    "# Calculating x_double_dot and y_double_dot from the trajectory\n",
    "x_double_dot = np.gradient(np.gradient(X_desired, t), t)\n",
    "y_double_dot = np.gradient(np.gradient(Y_desired, t), t)\n",
    "\n",
    "print(\"x_double_dot values:\")\n",
    "print(x_double_dot)\n",
    "print(\"y_double_dot values:\")\n",
    "print(y_double_dot)\n",
    "\n",
    "# robot states\n",
    "x_robot = X_desired[0]\n",
    "y_robot = Y_desired[0]\n",
    "theta_robot = np.arctan2(np.gradient(Y_desired, t)[0], np.gradient(X_desired, t)[0])\n",
    "V_robot = np.sqrt(np.gradient(X_desired, t)[0]**2 + np.gradient(Y_desired, t)[0]**2)\n",
    "\n",
    "print(\"Initial robot state values:\")\n",
    "print(\"x_robot:\", x_robot)\n",
    "print(\"y_robot:\", y_robot)\n",
    "print(\"theta_robot:\", theta_robot)\n",
    "print(\"V_robot:\", V_robot)\n",
    "\n",
    "# store robot states\n",
    "x_robot_states = [x_robot]\n",
    "y_robot_states = [y_robot]\n",
    "\n",
    "noise_std_v = 0.01\n",
    "noise_std_theta = 0.1\n",
    "\n",
    "print(\"Noise standard deviations:\")\n",
    "print(\"noise_std_v:\", noise_std_v)\n",
    "print(\"noise_std_theta:\", noise_std_theta)\n",
    "\n",
    "\n",
    "# Set Proportional and derivative gains\n",
    "kpx = 4\n",
    "kpy = 4\n",
    "kdx = 4\n",
    "kdy = 4\n",
    "\n",
    "print(\"Proportional and derivative gains:\")\n",
    "print(\"kpx:\", kpx)\n",
    "print(\"kpy:\", kpy)\n",
    "print(\"kdx:\", kdx)\n",
    "print(\"kdy:\", kdy)\n",
    "\n",
    "# the unicycle equations using Euler's method\n",
    "for i in range(1, len(t)):\n",
    "    # Calculating error terms\n",
    "    x_error = x_robot - X_desired[i]\n",
    "    y_error = y_robot - Y_desired[i]\n",
    "    x_dot_error = V_robot * np.cos(theta_robot) - np.gradient(X_desired, t)[i]\n",
    "    y_dot_error = V_robot * np.sin(theta_robot) - np.gradient(Y_desired, t)[i]\n",
    "\n",
    "    # Calculating control inputs using the closed-loop controller with matrix inverse\n",
    "    A_inv = np.linalg.inv(np.array([\n",
    "        [np.cos(theta_robot), -V_robot * np.sin(theta_robot)],\n",
    "        [np.sin(theta_robot), V_robot * np.cos(theta_robot)]\n",
    "    ]))\n",
    "    b = np.array([\n",
    "        x_double_dot[i] - (kpx * x_error) - (kdx * x_dot_error),\n",
    "        y_double_dot[i] - (kpy * y_error) - (kdy * y_dot_error)\n",
    "    ])\n",
    "    control_inputs = np.matmul(A_inv, b)\n",
    "\n",
    "    # Extracting control inputs\n",
    "    a = control_inputs[0]\n",
    "    omega = control_inputs[1]\n",
    "\n",
    "    # Adding noise to V and theta\n",
    "    V_robot += a * (t[i] - t[i-1]) + np.random.normal(0, noise_std_v)\n",
    "    theta_robot += omega * (t[i] - t[i-1]) + np.random.normal(0, noise_std_theta)\n",
    "\n",
    "    # Update robot states\n",
    "    x_robot += V_robot * np.cos(theta_robot) * (t[i] - t[i-1])\n",
    "    y_robot += V_robot * np.sin(theta_robot) * (t[i] - t[i-1])\n",
    "\n",
    "    x_robot_states.append(x_robot)\n",
    "    y_robot_states.append(y_robot)\n",
    "\n",
    "# Plot the desired trajectory and robot trajectory for Kp = 4 and Kd = 4\n",
    "plt.figure()\n",
    "plt.plot(X_desired, Y_desired, label='Desired Trajectory', color='blue')\n",
    "plt.plot(x_robot_states, y_robot_states, label='Robot Trajectory (Kp=4, Kd=4)', linestyle='--', color='red')\n",
    "plt.xlabel('X')\n",
    "plt.ylabel('Y')\n",
    "plt.legend()\n",
    "plt.title('Desired and Robot Trajectories (Kp=4, Kd=4)')\n",
    "plt.grid(True)\n",
    "plt.show()\n"
   ]
  },
  {
   "cell_type": "markdown",
   "metadata": {
    "id": "5n0lC1rmJ-M5"
   },
   "source": [
    "# Set Kp=4 , Kd=4 (**noise_std_v = 0.01; noise_std_theta = 0.01**)"
   ]
  },
  {
   "cell_type": "code",
   "execution_count": 36,
   "metadata": {
    "colab": {
     "base_uri": "https://localhost:8080/",
     "height": 802
    },
    "id": "867TfoqlG8ue",
    "outputId": "7f5f0629-1f55-4d9a-d9d3-6fab528ca83b"
   },
   "outputs": [
    {
     "name": "stdout",
     "output_type": "stream",
     "text": [
      "x_double_dot values:\n",
      "[ 0.06657778  0.09982222  0.13297778 ... -0.1328     -0.09968889\n",
      " -0.06648889]\n",
      "y_double_dot values:\n",
      "[ 0.16644444  0.24955556  0.33244444 ... -0.332      -0.24922222\n",
      " -0.16622222]\n",
      "Initial robot state values:\n",
      "x_robot: -4.321629859527221e-15\n",
      "y_robot: -2.0476493111153668e-13\n",
      "theta_robot: -1.5694591315119313\n",
      "V_robot: 0.498334519607811\n",
      "Noise standard deviations:\n",
      "noise_std_v: 0.01\n",
      "noise_std_theta: 0.01\n",
      "Proportional and derivative gains:\n",
      "kpx: 4\n",
      "kpy: 4\n",
      "kdx: 4\n",
      "kdy: 4\n"
     ]
    },
    {
     "data": {
      "image/png": "[encoded data removed]",
      "text/plain": [
       "<Figure size 640x480 with 1 Axes>"
      ]
     },
     "metadata": {},
     "output_type": "display_data"
    }
   ],
   "source": [
    "import numpy as np\n",
    "import matplotlib.pyplot as plt\n",
    "\n",
    "# time vector\n",
    "t = np.arange(0, 15, 0.01)  # time step\n",
    "T = 15\n",
    "\n",
    "#  matrix A\n",
    "A = np.array([\n",
    "    [1, 0, 0, 0, 0, 0, 0, 0],\n",
    "    [0, 1, 0, 0, 0, 0, 0, 0],\n",
    "    [0, 0, 0, 0, 1, 0, 0, 0],\n",
    "    [0, 0, 0, 0, 0, 1, 0, 0],\n",
    "    [1, T, T**2, T**3, 0, 0, 0, 0],\n",
    "    [0, 1, 2*T, 3*T**2, 0, 0, 0, 0],\n",
    "    [0, 0, 0, 0, 1, T, T**2, T**3],\n",
    "    [0, 0, 0, 0, 0, 1, 2*T, 3*T**2]\n",
    "])\n",
    "\n",
    "\n",
    "# pseudo-inverse of A\n",
    "Ainv = np.linalg.pinv(A)\n",
    "\n",
    "# vector b\n",
    "b = np.array([0, 0, 0, -0.5, 5, 0, 5, -0.5])\n",
    "\n",
    "# Cefficients using matrix multiplication\n",
    "x = np.matmul(Ainv, b)\n",
    "\n",
    "# Extracting coefficients\n",
    "a11, a12, a13, a14, a21, a22, a23, a24 = x\n",
    "\n",
    "# Calculating X and Y with polynomial equations\n",
    "X_desired = a11 + a12 * t + a13 * t**2 + a14 * t**3\n",
    "Y_desired = a21 + a22 * t + a23 * t**2 + a24 * t**3\n",
    "X_desired\n",
    "Y_desired\n",
    "\n",
    "# Calculating x_double_dot and y_double_dot from the trajectory\n",
    "x_double_dot = np.gradient(np.gradient(X_desired, t), t)\n",
    "y_double_dot = np.gradient(np.gradient(Y_desired, t), t)\n",
    "\n",
    "print(\"x_double_dot values:\")\n",
    "print(x_double_dot)\n",
    "print(\"y_double_dot values:\")\n",
    "print(y_double_dot)\n",
    "\n",
    "# robot states\n",
    "x_robot = X_desired[0]\n",
    "y_robot = Y_desired[0]\n",
    "theta_robot = np.arctan2(np.gradient(Y_desired, t)[0], np.gradient(X_desired, t)[0])\n",
    "V_robot = np.sqrt(np.gradient(X_desired, t)[0]**2 + np.gradient(Y_desired, t)[0]**2)\n",
    "\n",
    "print(\"Initial robot state values:\")\n",
    "print(\"x_robot:\", x_robot)\n",
    "print(\"y_robot:\", y_robot)\n",
    "print(\"theta_robot:\", theta_robot)\n",
    "print(\"V_robot:\", V_robot)\n",
    "\n",
    "# store robot states\n",
    "x_robot_states = [x_robot]\n",
    "y_robot_states = [y_robot]\n",
    "\n",
    "noise_std_v = 0.01\n",
    "noise_std_theta = 0.01\n",
    "\n",
    "print(\"Noise standard deviations:\")\n",
    "print(\"noise_std_v:\", noise_std_v)\n",
    "print(\"noise_std_theta:\", noise_std_theta)\n",
    "\n",
    "\n",
    "# Set Proportional and derivative gains\n",
    "kpx = 4\n",
    "kpy = 4\n",
    "kdx = 4\n",
    "kdy = 4\n",
    "\n",
    "print(\"Proportional and derivative gains:\")\n",
    "print(\"kpx:\", kpx)\n",
    "print(\"kpy:\", kpy)\n",
    "print(\"kdx:\", kdx)\n",
    "print(\"kdy:\", kdy)\n",
    "\n",
    "# the unicycle equations using Euler's method\n",
    "for i in range(1, len(t)):\n",
    "    # Calculating error terms\n",
    "    x_error = x_robot - X_desired[i]\n",
    "    y_error = y_robot - Y_desired[i]\n",
    "    x_dot_error = V_robot * np.cos(theta_robot) - np.gradient(X_desired, t)[i]\n",
    "    y_dot_error = V_robot * np.sin(theta_robot) - np.gradient(Y_desired, t)[i]\n",
    "\n",
    "    # Calculating control inputs using the closed-loop controller with matrix inverse\n",
    "    A_inv = np.linalg.inv(np.array([\n",
    "        [np.cos(theta_robot), -V_robot * np.sin(theta_robot)],\n",
    "        [np.sin(theta_robot), V_robot * np.cos(theta_robot)]\n",
    "    ]))\n",
    "    b = np.array([\n",
    "        x_double_dot[i] - (kpx * x_error) - (kdx * x_dot_error),\n",
    "        y_double_dot[i] - (kpy * y_error )- (kdy * y_dot_error)\n",
    "    ])\n",
    "    control_inputs = np.matmul(A_inv, b)\n",
    "\n",
    "    # Extracting control inputs\n",
    "    a = control_inputs[0]\n",
    "    omega = control_inputs[1]\n",
    "\n",
    "    # Adding noise to V and theta\n",
    "    V_robot += a * (t[i] - t[i-1]) + np.random.normal(0, noise_std_v)\n",
    "    theta_robot += omega * (t[i] - t[i-1]) + np.random.normal(0, noise_std_theta)\n",
    "\n",
    "    # Update robot states\n",
    "    x_robot += V_robot * np.cos(theta_robot) * (t[i] - t[i-1])\n",
    "    y_robot += V_robot * np.sin(theta_robot) * (t[i] - t[i-1])\n",
    "\n",
    "    x_robot_states.append(x_robot)\n",
    "    y_robot_states.append(y_robot)\n",
    "\n",
    "# Plot the desired trajectory and robot trajectory for Kp = 4 and Kd = 4\n",
    "plt.figure()\n",
    "plt.plot(X_desired, Y_desired, label='Desired Trajectory', color='blue')\n",
    "plt.plot(x_robot_states, y_robot_states, label='Robot Trajectory (Kp=4, Kd=4)', linestyle='--', color='red')\n",
    "plt.xlabel('X')\n",
    "plt.ylabel('Y')\n",
    "plt.legend()\n",
    "plt.title('Desired and Robot Trajectories (Kp=4, Kd=4)')\n",
    "plt.grid(True)\n",
    "plt.show()"
   ]
  },
  {
   "cell_type": "code",
   "execution_count": null,
   "metadata": {
    "id": "LT7bMRYqKOvK"
   },
   "outputs": [],
   "source": []
  }
 ],
 "metadata": {
  "colab": {
   "provenance": []
  },
  "kernelspec": {
   "display_name": "Python 3 (ipykernel)",
   "language": "python",
   "name": "python3"
  },
  "language_info": {
   "codemirror_mode": {
    "name": "ipython",
    "version": 3
   },
   "file_extension": ".py",
   "mimetype": "text/x-python",
   "name": "python",
   "nbconvert_exporter": "python",
   "pygments_lexer": "ipython3",
   "version": "3.9.13"
  }
 },
 "nbformat": 4,
 "nbformat_minor": 1
}
