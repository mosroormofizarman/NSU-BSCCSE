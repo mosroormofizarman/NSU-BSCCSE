{
 "cells": [
  {
   "cell_type": "markdown",
   "metadata": {
    "id": "QLaRZsuTKGV1"
   },
   "source": [
    "\n",
    "# ANSWER TO THE QUSTION NO. 5(b)"
   ]
  },
  {
   "cell_type": "code",
   "execution_count": 1,
   "metadata": {
    "id": "dUWoKzmMWTpi"
   },
   "outputs": [],
   "source": [
    "#import libraries\n",
    "import numpy as np\n",
    "import matplotlib.pyplot as plt"
   ]
  },
  {
   "cell_type": "code",
   "execution_count": 2,
   "metadata": {
    "colab": {
     "base_uri": "https://localhost:8080/"
    },
    "id": "neA648efX2bS",
    "outputId": "24f43991-d4c1-418e-b0e9-c861d37cb618"
   },
   "outputs": [
    {
     "data": {
      "text/plain": [
       "array([0.000e+00, 1.000e-02, 2.000e-02, ..., 1.497e+01, 1.498e+01,\n",
       "       1.499e+01])"
      ]
     },
     "execution_count": 2,
     "metadata": {},
     "output_type": "execute_result"
    }
   ],
   "source": [
    "t = np.arange(0, 15, 0.01)\n",
    "t"
   ]
  },
  {
   "cell_type": "code",
   "execution_count": 3,
   "metadata": {
    "colab": {
     "base_uri": "https://localhost:8080/"
    },
    "id": "D4JZFR4mMu9X",
    "outputId": "93d728c0-a235-4849-e42a-9c1371350862"
   },
   "outputs": [
    {
     "data": {
      "text/plain": [
       "1500"
      ]
     },
     "execution_count": 3,
     "metadata": {},
     "output_type": "execute_result"
    }
   ],
   "source": [
    "len(t)"
   ]
  },
  {
   "cell_type": "code",
   "execution_count": 4,
   "metadata": {
    "id": "boiuiu9thySN"
   },
   "outputs": [],
   "source": [
    "# Declare Final time T\n",
    "T= 15\n",
    "Tsq = np.power(T,2)\n",
    "Tcb = np.power(T,3)"
   ]
  },
  {
   "cell_type": "code",
   "execution_count": 5,
   "metadata": {
    "colab": {
     "base_uri": "https://localhost:8080/"
    },
    "id": "PgtEBvc9h0Yt",
    "outputId": "4e74734c-c364-4f2f-a353-6c8c580f044e"
   },
   "outputs": [
    {
     "data": {
      "text/plain": [
       "array([[   1,    0,    0,    0,    0,    0,    0,    0],\n",
       "       [   0,    1,    0,    0,    0,    0,    0,    0],\n",
       "       [   0,    0,    0,    0,    1,    0,    0,    0],\n",
       "       [   0,    0,    0,    0,    0,    1,    0,    0],\n",
       "       [   1,   15,  225, 3375,    0,    0,    0,    0],\n",
       "       [   0,    1,   30,  675,    0,    0,    0,    0],\n",
       "       [   0,    0,    0,    0,    1,   15,  225, 3375],\n",
       "       [   0,    0,    0,    0,    0,    1,   30,  675]])"
      ]
     },
     "execution_count": 5,
     "metadata": {},
     "output_type": "execute_result"
    }
   ],
   "source": [
    "#initialized A\n",
    "A = np.array([[1, 0, 0, 0,  0, 0, 0, 0],\n",
    "              [0, 1, 0, 0,  0, 0, 0, 0],\n",
    "              [0, 0, 0, 0,  1, 0, 0, 0],\n",
    "              [0, 0, 0, 0,  0, 1, 0, 0],\n",
    "              [1, T, Tsq, Tcb,  0, 0, 0, 0],\n",
    "              [0, 1, 2*T, 3*Tsq,  0, 0, 0, 0],\n",
    "              [0, 0, 0, 0,  1, T, Tsq, Tcb,],\n",
    "              [0, 0, 0, 0,  0, 1, 2*T, 3*Tsq]\n",
    "              ]\n",
    "            )\n",
    "A"
   ]
  },
  {
   "cell_type": "code",
   "execution_count": 6,
   "metadata": {
    "colab": {
     "base_uri": "https://localhost:8080/"
    },
    "id": "i2wvUTTJh6FO",
    "outputId": "b665e02a-337c-4d03-a508-a593068dc7a5"
   },
   "outputs": [
    {
     "data": {
      "text/plain": [
       "array([[ 1.00000000e+00,  6.58070820e-13,  0.00000000e+00,\n",
       "         0.00000000e+00, -8.64325972e-16,  3.91841507e-15,\n",
       "         0.00000000e+00,  0.00000000e+00],\n",
       "       [ 4.16333634e-17,  1.00000000e+00,  0.00000000e+00,\n",
       "         0.00000000e+00, -1.00180281e-16,  1.21430643e-17,\n",
       "         0.00000000e+00,  0.00000000e+00],\n",
       "       [-1.33333333e-02, -1.33333333e-01,  0.00000000e+00,\n",
       "         0.00000000e+00,  1.33333333e-02, -6.66666667e-02,\n",
       "         0.00000000e+00,  0.00000000e+00],\n",
       "       [ 5.92592593e-04,  4.44444444e-03,  0.00000000e+00,\n",
       "         0.00000000e+00, -5.92592593e-04,  4.44444444e-03,\n",
       "         0.00000000e+00,  0.00000000e+00],\n",
       "       [ 4.38264820e-17, -1.56199568e-17,  1.00000000e+00,\n",
       "         4.13738488e-13, -4.38264820e-17,  2.19459069e-16,\n",
       "         3.73236598e-16, -9.14524532e-16],\n",
       "       [-3.59628264e-18, -8.65405541e-17, -1.66533454e-16,\n",
       "         1.00000000e+00,  3.59628264e-18, -1.80076414e-17,\n",
       "        -3.85975973e-17,  7.75421394e-16],\n",
       "       [-1.03997980e-19,  1.18523646e-17, -1.33333333e-02,\n",
       "        -1.33333333e-01,  1.03997980e-19, -5.20842611e-19,\n",
       "         1.33333333e-02, -6.66666667e-02],\n",
       "       [ 9.93178042e-21, -4.00814858e-19,  5.92592593e-04,\n",
       "         4.44444444e-03, -9.93178042e-21,  4.97355363e-20,\n",
       "        -5.92592593e-04,  4.44444444e-03]])"
      ]
     },
     "execution_count": 6,
     "metadata": {},
     "output_type": "execute_result"
    }
   ],
   "source": [
    "# A pesudo inverse\n",
    "Ainv = np.linalg.pinv(A)\n",
    "Ainv"
   ]
  },
  {
   "cell_type": "code",
   "execution_count": 7,
   "metadata": {
    "colab": {
     "base_uri": "https://localhost:8080/"
    },
    "id": "I_lcqstkh8Bd",
    "outputId": "c502dfd4-8a8c-4129-9237-f9ec3b8b3dfe"
   },
   "outputs": [
    {
     "data": {
      "text/plain": [
       "array([[ 0. ],\n",
       "       [ 0. ],\n",
       "       [ 0. ],\n",
       "       [-0.5],\n",
       "       [ 5. ],\n",
       "       [ 0. ],\n",
       "       [ 5. ],\n",
       "       [-0.5]])"
      ]
     },
     "execution_count": 7,
     "metadata": {},
     "output_type": "execute_result"
    }
   ],
   "source": [
    "#initialized b\n",
    "b =  np.array([[0],#x1(0)\n",
    "               [0],#1\n",
    "               [0],#x3(0)\n",
    "               [-0.5],#x2(0)\n",
    "               [5],#x1(T)\n",
    "               [0],#1\n",
    "               [5],#x3(T)\n",
    "               [-0.5] #x2(T)\n",
    "              ]\n",
    "            )\n",
    "\n",
    "b"
   ]
  },
  {
   "cell_type": "code",
   "execution_count": 8,
   "metadata": {
    "colab": {
     "base_uri": "https://localhost:8080/"
    },
    "id": "sRcdYGrDiXR2",
    "outputId": "dae50aa5-f29f-4997-d003-c7d45f25d5bb"
   },
   "outputs": [
    {
     "data": {
      "text/plain": [
       "array([[-4.32162986e-15],\n",
       "       [-5.00901404e-16],\n",
       "       [ 6.66666667e-02],\n",
       "       [-2.96296296e-03],\n",
       "       [-2.04764931e-13],\n",
       "       [-5.00000000e-01],\n",
       "       [ 1.66666667e-01],\n",
       "       [-7.40740741e-03]])"
      ]
     },
     "execution_count": 8,
     "metadata": {},
     "output_type": "execute_result"
    }
   ],
   "source": [
    "#matrix multiplication x = Ainv * b\n",
    "x= np.matmul(Ainv, b)\n",
    "x\n"
   ]
  },
  {
   "cell_type": "code",
   "execution_count": 9,
   "metadata": {
    "colab": {
     "base_uri": "https://localhost:8080/"
    },
    "id": "BKZdcve-igG2",
    "outputId": "2dbebed8-dc83-4c55-fd0b-64aaae897cfa"
   },
   "outputs": [
    {
     "data": {
      "text/plain": [
       "array([-4.32162986e-15])"
      ]
     },
     "execution_count": 9,
     "metadata": {},
     "output_type": "execute_result"
    }
   ],
   "source": [
    "a11 = x[0]\n",
    "a11"
   ]
  },
  {
   "cell_type": "code",
   "execution_count": 10,
   "metadata": {
    "colab": {
     "base_uri": "https://localhost:8080/"
    },
    "id": "Q9a9pA2QimYF",
    "outputId": "69d8c6ca-17e9-42e6-e06f-1929ecf7eb9f"
   },
   "outputs": [
    {
     "data": {
      "text/plain": [
       "array([-5.00901404e-16])"
      ]
     },
     "execution_count": 10,
     "metadata": {},
     "output_type": "execute_result"
    }
   ],
   "source": [
    "a12 = x[1]\n",
    "a12\n"
   ]
  },
  {
   "cell_type": "code",
   "execution_count": 11,
   "metadata": {
    "colab": {
     "base_uri": "https://localhost:8080/"
    },
    "id": "jvEAJvZoioZE",
    "outputId": "5465b7fc-6be6-404f-85e2-3e3b3d423747"
   },
   "outputs": [
    {
     "data": {
      "text/plain": [
       "array([0.06666667])"
      ]
     },
     "execution_count": 11,
     "metadata": {},
     "output_type": "execute_result"
    }
   ],
   "source": [
    "a13 = x[2]\n",
    "a13"
   ]
  },
  {
   "cell_type": "code",
   "execution_count": 12,
   "metadata": {
    "colab": {
     "base_uri": "https://localhost:8080/"
    },
    "id": "fyljNZdVioTt",
    "outputId": "eeb23c3d-5d96-4f18-82e0-e1ba230fda59"
   },
   "outputs": [
    {
     "data": {
      "text/plain": [
       "array([-0.00296296])"
      ]
     },
     "execution_count": 12,
     "metadata": {},
     "output_type": "execute_result"
    }
   ],
   "source": [
    "a14 = x[3]\n",
    "a14"
   ]
  },
  {
   "cell_type": "code",
   "execution_count": 13,
   "metadata": {
    "colab": {
     "base_uri": "https://localhost:8080/"
    },
    "id": "1p750RowioQM",
    "outputId": "a7617d07-116c-4d19-e6f4-4fba79ae5266"
   },
   "outputs": [
    {
     "data": {
      "text/plain": [
       "array([-2.04764931e-13])"
      ]
     },
     "execution_count": 13,
     "metadata": {},
     "output_type": "execute_result"
    }
   ],
   "source": [
    "a21 = x[4]\n",
    "a21"
   ]
  },
  {
   "cell_type": "code",
   "execution_count": 14,
   "metadata": {
    "colab": {
     "base_uri": "https://localhost:8080/"
    },
    "id": "UG4ZdCKrioMU",
    "outputId": "68679a0e-90f9-4e33-a31b-ac8268d4ea87"
   },
   "outputs": [
    {
     "data": {
      "text/plain": [
       "array([-0.5])"
      ]
     },
     "execution_count": 14,
     "metadata": {},
     "output_type": "execute_result"
    }
   ],
   "source": [
    "a22 = x[5]\n",
    "a22"
   ]
  },
  {
   "cell_type": "code",
   "execution_count": 15,
   "metadata": {
    "colab": {
     "base_uri": "https://localhost:8080/"
    },
    "id": "sIicIrFXioE-",
    "outputId": "7aac425a-7d50-47c8-f6ad-5e4cc6584c9c"
   },
   "outputs": [
    {
     "data": {
      "text/plain": [
       "array([0.16666667])"
      ]
     },
     "execution_count": 15,
     "metadata": {},
     "output_type": "execute_result"
    }
   ],
   "source": [
    "a23 = x[6]\n",
    "a23"
   ]
  },
  {
   "cell_type": "code",
   "execution_count": 16,
   "metadata": {
    "colab": {
     "base_uri": "https://localhost:8080/"
    },
    "id": "8gP6-nxKin5d",
    "outputId": "12e17ebb-9482-4823-d13c-0ce7c2f17b94"
   },
   "outputs": [
    {
     "data": {
      "text/plain": [
       "array([-0.00740741])"
      ]
     },
     "execution_count": 16,
     "metadata": {},
     "output_type": "execute_result"
    }
   ],
   "source": [
    "a24 = x[7]\n",
    "a24"
   ]
  },
  {
   "cell_type": "code",
   "execution_count": 17,
   "metadata": {
    "colab": {
     "base_uri": "https://localhost:8080/"
    },
    "id": "MpzaRM1Mizc0",
    "outputId": "0731e068-d899-45f7-8f21-5bb8d5e98dc0"
   },
   "outputs": [
    {
     "data": {
      "text/plain": [
       "(array([-4.32162986e-15,  6.66370370e-06,  2.66429630e-05, ...,\n",
       "         4.99994008e+00,  4.99997336e+00,  4.99999334e+00]),\n",
       " array([-2.04764931e-13, -4.98334074e-03, -9.93339259e-03, ...,\n",
       "         5.01485020e+00,  5.00993339e+00,  5.00498334e+00]))"
      ]
     },
     "execution_count": 17,
     "metadata": {},
     "output_type": "execute_result"
    }
   ],
   "source": [
    "for i in t:\n",
    "  X = a11 + (a12* t) + (a13 * np.power(t,2)) + (a14 * np.power(t,3))\n",
    "  Y = a21 + (a22* t) + (a23 * np.power(t,2)) + (a24 * np.power(t,3) )\n",
    "\n",
    "X, Y"
   ]
  },
  {
   "cell_type": "code",
   "execution_count": 18,
   "metadata": {
    "colab": {
     "base_uri": "https://localhost:8080/",
     "height": 447
    },
    "id": "yJLRzRloi9oU",
    "outputId": "b60280f2-59c6-43e1-9908-05c7864890b7"
   },
   "outputs": [
    {
     "data": {
      "text/plain": [
       "Text(0, 0.5, 'Y')"
      ]
     },
     "execution_count": 18,
     "metadata": {},
     "output_type": "execute_result"
    },
    {
     "data": {
      "image/png": "[encoded data removed]",
      "text/plain": [
       "<Figure size 640x480 with 1 Axes>"
      ]
     },
     "metadata": {},
     "output_type": "display_data"
    }
   ],
   "source": [
    "plt.plot(X,Y)\n",
    "plt.title('X vs Y')\n",
    "plt.xlabel('X')\n",
    "plt.ylabel('Y')"
   ]
  }
 ],
 "metadata": {
  "colab": {
   "provenance": []
  },
  "kernelspec": {
   "display_name": "Python 3 (ipykernel)",
   "language": "python",
   "name": "python3"
  },
  "language_info": {
   "codemirror_mode": {
    "name": "ipython",
    "version": 3
   },
   "file_extension": ".py",
   "mimetype": "text/x-python",
   "name": "python",
   "nbconvert_exporter": "python",
   "pygments_lexer": "ipython3",
   "version": "3.9.13"
  }
 },
 "nbformat": 4,
 "nbformat_minor": 1
}
