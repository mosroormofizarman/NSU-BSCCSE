{
 "cells": [
  {
   "cell_type": "markdown",
   "metadata": {
    "id": "gH08kIsy6las"
   },
   "source": [
    "# ANSWER TO THE QUESTION NO. 2"
   ]
  },
  {
   "cell_type": "code",
   "execution_count": 1,
   "metadata": {
    "id": "fIwjofJpd1xQ"
   },
   "outputs": [],
   "source": [
    "#import libraries\n",
    "import numpy as np\n",
    "import matplotlib.pyplot as plt\n"
   ]
  },
  {
   "cell_type": "markdown",
   "metadata": {
    "id": "7zwdoY_-x24z"
   },
   "source": [
    "# Initialization Variable"
   ]
  },
  {
   "cell_type": "code",
   "execution_count": 2,
   "metadata": {
    "colab": {
     "base_uri": "https://localhost:8080/",
     "height": 0
    },
    "id": "L6Gp2OYHfMgh",
    "outputId": "e8ec3cf0-89b9-4c0b-852c-c0c70f66fae6"
   },
   "outputs": [
    {
     "data": {
      "text/plain": [
       "(array([0., 0., 0., 0., 0., 0., 0., 0., 0., 0., 0., 0., 0., 0., 0., 0., 0.,\n",
       "        0., 0., 0., 0., 0., 0., 0., 0., 0., 0., 0., 0., 0., 0., 0., 0., 0.,\n",
       "        0., 0., 0., 0., 0., 0., 0., 0., 0., 0., 0., 0., 0., 0., 0., 0., 0.,\n",
       "        0., 0., 0., 0., 0., 0., 0., 0., 0., 0., 0., 0., 0., 0., 0., 0., 0.,\n",
       "        0., 0., 0., 0., 0., 0., 0., 0., 0., 0., 0., 0., 0., 0., 0., 0., 0.,\n",
       "        0., 0., 0., 0., 0., 0., 0., 0., 0., 0., 0., 0., 0., 0., 0.]),\n",
       " array([0., 0., 0., 0., 0., 0., 0., 0., 0., 0., 0., 0., 0., 0., 0., 0., 0.,\n",
       "        0., 0., 0., 0., 0., 0., 0., 0., 0., 0., 0., 0., 0., 0., 0., 0., 0.,\n",
       "        0., 0., 0., 0., 0., 0., 0., 0., 0., 0., 0., 0., 0., 0., 0., 0., 0.,\n",
       "        0., 0., 0., 0., 0., 0., 0., 0., 0., 0., 0., 0., 0., 0., 0., 0., 0.,\n",
       "        0., 0., 0., 0., 0., 0., 0., 0., 0., 0., 0., 0., 0., 0., 0., 0., 0.,\n",
       "        0., 0., 0., 0., 0., 0., 0., 0., 0., 0., 0., 0., 0., 0., 0.]),\n",
       " array([1., 1., 1., 1., 1., 1., 1., 1., 1., 1., 1., 1., 1., 1., 1., 1., 1.,\n",
       "        1., 1., 1., 1., 1., 1., 1., 1., 1., 1., 1., 1., 1., 1., 1., 1., 1.,\n",
       "        1., 1., 1., 1., 1., 1., 1., 1., 1., 1., 1., 1., 1., 1., 1., 1., 1.,\n",
       "        1., 1., 1., 1., 1., 1., 1., 1., 1., 1., 1., 1., 1., 1., 1., 1., 1.,\n",
       "        1., 1., 1., 1., 1., 1., 1., 1., 1., 1., 1., 1., 1., 1., 1., 1., 1.,\n",
       "        1., 1., 1., 1., 1., 1., 1., 1., 1., 1., 1., 1., 1., 1., 1.]),\n",
       " array([0., 0., 0., 0., 0., 0., 0., 0., 0., 0., 0., 0., 0., 0., 0., 0., 0.,\n",
       "        0., 0., 0., 0., 0., 0., 0., 0., 0., 0., 0., 0., 0., 0., 0., 0., 0.,\n",
       "        0., 0., 0., 0., 0., 0., 0., 0., 0., 0., 0., 0., 0., 0., 0., 0., 0.,\n",
       "        0., 0., 0., 0., 0., 0., 0., 0., 0., 0., 0., 0., 0., 0., 0., 0., 0.,\n",
       "        0., 0., 0., 0., 0., 0., 0., 0., 0., 0., 0., 0., 0., 0., 0., 0., 0.,\n",
       "        0., 0., 0., 0., 0., 0., 0., 0., 0., 0., 0., 0., 0., 0., 0.]))"
      ]
     },
     "execution_count": 2,
     "metadata": {},
     "output_type": "execute_result"
    }
   ],
   "source": [
    "x = np.zeros(100)\n",
    "y = np.zeros(100)\n",
    "theta = np.ones(100)\n",
    "omega = np.zeros(100)\n",
    "x, y, theta, omega"
   ]
  },
  {
   "cell_type": "markdown",
   "metadata": {
    "id": "Q7I5RMNu6k1D"
   },
   "source": []
  },
  {
   "cell_type": "code",
   "execution_count": 3,
   "metadata": {
    "colab": {
     "base_uri": "https://localhost:8080/",
     "height": 0
    },
    "id": "4mYhe1Uxbn-T",
    "outputId": "2caab4d2-8b5b-4f06-ebab-abfe860dc1a2"
   },
   "outputs": [
    {
     "name": "stdout",
     "output_type": "stream",
     "text": [
      "10\n",
      "0\n",
      "0.1\n"
     ]
    }
   ],
   "source": [
    "tFinal = int(input())\n",
    "tInitial = int(input())\n",
    "delT = float(input())"
   ]
  },
  {
   "cell_type": "code",
   "execution_count": 4,
   "metadata": {
    "colab": {
     "base_uri": "https://localhost:8080/",
     "height": 0
    },
    "id": "9rhHjT_8cIZd",
    "outputId": "a9ffc915-453a-48c2-92a5-44d34054d8a8"
   },
   "outputs": [
    {
     "data": {
      "text/plain": [
       "100"
      ]
     },
     "execution_count": 4,
     "metadata": {},
     "output_type": "execute_result"
    }
   ],
   "source": [
    "arraySize = int((tFinal - tInitial)/delT)\n",
    "arraySize"
   ]
  },
  {
   "cell_type": "code",
   "execution_count": 5,
   "metadata": {
    "colab": {
     "base_uri": "https://localhost:8080/",
     "height": 0
    },
    "id": "YvPLqWMkfIhj",
    "outputId": "466b6c8c-9a98-45e0-9400-9dbd3af47684"
   },
   "outputs": [
    {
     "data": {
      "text/plain": [
       "array([1., 1., 1., 1., 1., 1., 1., 1., 1., 1., 1., 1., 1., 1., 1., 1., 1.,\n",
       "       1., 1., 1., 1., 1., 1., 1., 1., 1., 1., 1., 1., 1., 1., 1., 1., 1.,\n",
       "       1., 1., 1., 1., 1., 1., 1., 1., 1., 1., 1., 1., 1., 1., 1., 1., 1.,\n",
       "       1., 1., 1., 1., 1., 1., 1., 1., 1., 1., 1., 1., 1., 1., 1., 1., 1.,\n",
       "       1., 1., 1., 1., 1., 1., 1., 1., 1., 1., 1., 1., 1., 1., 1., 1., 1.,\n",
       "       1., 1., 1., 1., 1., 1., 1., 1., 1., 1., 1., 1., 1., 1., 1.])"
      ]
     },
     "execution_count": 5,
     "metadata": {},
     "output_type": "execute_result"
    }
   ],
   "source": [
    "a = np.ones(100)\n",
    "a"
   ]
  },
  {
   "cell_type": "code",
   "execution_count": 6,
   "metadata": {
    "colab": {
     "base_uri": "https://localhost:8080/",
     "height": 0
    },
    "id": "RhtNB6-NhYKU",
    "outputId": "c1ad74cc-c5c3-4c6e-a3a3-a4ee1b9bc9ce"
   },
   "outputs": [
    {
     "data": {
      "text/plain": [
       "array([5, 5, 5, 5, 5, 5, 5, 5, 5, 5, 5, 5, 5, 5, 5, 5, 5, 5, 5, 5, 5, 5,\n",
       "       5, 5, 5, 5, 5, 5, 5, 5, 5, 5, 5, 5, 5, 5, 5, 5, 5, 5, 5, 5, 5, 5,\n",
       "       5, 5, 5, 5, 5, 5, 5, 5, 5, 5, 5, 5, 5, 5, 5, 5, 5, 5, 5, 5, 5, 5,\n",
       "       5, 5, 5, 5, 5, 5, 5, 5, 5, 5, 5, 5, 5, 5, 5, 5, 5, 5, 5, 5, 5, 5,\n",
       "       5, 5, 5, 5, 5, 5, 5, 5, 5, 5, 5, 5])"
      ]
     },
     "execution_count": 6,
     "metadata": {},
     "output_type": "execute_result"
    }
   ],
   "source": [
    "w = np.full(100, 5)\n",
    "w"
   ]
  },
  {
   "cell_type": "code",
   "execution_count": 7,
   "metadata": {
    "colab": {
     "base_uri": "https://localhost:8080/",
     "height": 0
    },
    "id": "EpzPCMX1wyZ7",
    "outputId": "d02c80be-9ddd-4954-f83f-b619c9e8be71"
   },
   "outputs": [
    {
     "data": {
      "text/plain": [
       "array([0.74110078, 0.8611441 , 0.6596412 , 0.85928525, 0.83665032,\n",
       "       0.59112243, 0.94594866, 0.37053602, 0.4183543 , 0.40809279,\n",
       "       0.91940984, 0.31982325, 0.67129439, 0.34883768, 0.74912046,\n",
       "       0.13194703, 0.34584098, 0.74868766, 0.52235403, 0.5573688 ,\n",
       "       0.82869736, 0.94155963, 0.25137186, 0.44126691, 0.08811698,\n",
       "       0.59284679, 0.43333745, 0.65698715, 0.39631963, 0.63216434,\n",
       "       0.94435549, 0.63953861, 0.05224629, 0.27101097, 0.54331694,\n",
       "       0.98094061, 0.14146232, 0.18220179, 0.93028336, 0.46144056,\n",
       "       0.25673445, 0.45929477, 0.83610852, 0.27256654, 0.33698706,\n",
       "       0.1445231 , 0.00757078, 0.82776616, 0.51707664, 0.77391273,\n",
       "       0.13886809, 0.99251919, 0.40427224, 0.53190757, 0.55779584,\n",
       "       0.980243  , 0.11519771, 0.61016385, 0.22013315, 0.77156182,\n",
       "       0.2815004 , 0.95901706, 0.43879214, 0.47141401, 0.11485829,\n",
       "       0.62383948, 0.34181093, 0.97323892, 0.03118499, 0.42035007,\n",
       "       0.33825437, 0.08627489, 0.97210042, 0.1122977 , 0.01672621,\n",
       "       0.06166358, 0.76200938, 0.87181669, 0.83943954, 0.76976989,\n",
       "       0.16821554, 0.67386171, 0.13784512, 0.10178224, 0.19044212,\n",
       "       0.89393823, 0.64381736, 0.20089686, 0.57788412, 0.15525923,\n",
       "       0.48909866, 0.90819735, 0.518397  , 0.55154447, 0.91697341,\n",
       "       0.13206471, 0.9428376 , 0.94802194, 0.10743234, 0.51188272])"
      ]
     },
     "execution_count": 7,
     "metadata": {},
     "output_type": "execute_result"
    }
   ],
   "source": [
    "v = np.random.rand(100)\n",
    "v"
   ]
  },
  {
   "cell_type": "markdown",
   "metadata": {
    "id": "ZcIntcVR9EBB"
   },
   "source": [
    "# Condition"
   ]
  },
  {
   "cell_type": "code",
   "execution_count": 8,
   "metadata": {
    "colab": {
     "base_uri": "https://localhost:8080/",
     "height": 0
    },
    "id": "w3wQl8UOddzN",
    "outputId": "c0016a06-9338-410c-842a-4be18e63a8dd"
   },
   "outputs": [
    {
     "data": {
      "text/plain": [
       "(array([ 0,  0,  0,  0,  0,  3,  3,  3,  3,  3,  3,  3,  3,  3,  3,  3,  0,\n",
       "         0,  0,  0, -3, -3, -3, -3, -3, -3, -3, -3, -3, -3, -3,  0,  0,  0,\n",
       "         0,  0,  0,  0,  0,  0, -3, -3, -3, -3, -3, -3, -3, -3, -3, -3, -3,\n",
       "         0,  0,  0,  0,  0,  0,  0,  0,  0,  3,  3,  3,  3,  3,  3,  3,  3,\n",
       "         3,  3,  3,  0,  0,  0,  0,  0,  0,  0,  0,  0, -3, -3, -3, -3, -3,\n",
       "        -3, -3, -3, -3, -3, -3,  0,  0,  0,  0,  0,  0,  0,  0,  0]),\n",
       " array([1., 1., 1., 1., 1., 1., 1., 1., 1., 1., 1., 1., 1., 1., 1., 1., 1.,\n",
       "        1., 1., 1., 1., 1., 1., 1., 1., 1., 1., 1., 1., 1., 1., 1., 1., 1.,\n",
       "        1., 1., 1., 1., 1., 1., 1., 1., 1., 1., 1., 1., 1., 1., 1., 1., 1.,\n",
       "        1., 1., 1., 1., 1., 1., 1., 1., 1., 1., 1., 1., 1., 1., 1., 1., 1.,\n",
       "        1., 1., 1., 1., 1., 1., 1., 1., 1., 1., 1., 1., 1., 1., 1., 1., 1.,\n",
       "        1., 1., 1., 1., 1., 1., 1., 1., 1., 1., 1., 1., 1., 1., 1.]))"
      ]
     },
     "execution_count": 8,
     "metadata": {},
     "output_type": "execute_result"
    }
   ],
   "source": [
    "for i in range(100):\n",
    "  v[i] = 1\n",
    "  w[i] = 0\n",
    "\n",
    "  if i>=5 and i<=15:\n",
    "    w[i] = 3\n",
    "  if i>=20 and i<=30:\n",
    "    w[i] = -3\n",
    "  if i>=40 and i<=50:\n",
    "    w[i] = -3\n",
    "  if i>=60 and i<=70:\n",
    "    w[i] = 3\n",
    "  if i>=80 and i<=90:\n",
    "    w[i] = -3\n",
    "\n",
    "\n",
    "\n",
    "w,v\n"
   ]
  },
  {
   "cell_type": "markdown",
   "metadata": {
    "id": "4riWzWwpuNID"
   },
   "source": [
    "# Main Program"
   ]
  },
  {
   "cell_type": "code",
   "execution_count": 9,
   "metadata": {
    "colab": {
     "base_uri": "https://localhost:8080/",
     "height": 0
    },
    "id": "gA5OCkBsuOoU",
    "outputId": "c6377b4c-8c85-4a1a-b84b-10443a8e4da3"
   },
   "outputs": [
    {
     "data": {
      "text/plain": [
       "(array([0.        , 0.00540302, 0.01080605, 0.01620907, 0.02161209,\n",
       "        0.02701512, 0.03241814, 0.03756633, 0.04245505, 0.0470799 ,\n",
       "        0.05143673, 0.0555216 , 0.05933085, 0.06286104, 0.06610901,\n",
       "        0.06907181, 0.0717468 , 0.07413156, 0.07651632, 0.07890108,\n",
       "        0.08128584, 0.0836706 , 0.08634559, 0.0893084 , 0.09255636,\n",
       "        0.09608656, 0.09989581, 0.10398068, 0.10833751, 0.11296236,\n",
       "        0.11785108, 0.12299927, 0.12840229, 0.13380531, 0.13920834,\n",
       "        0.14461136, 0.15001438, 0.15541741, 0.16082043, 0.16622345,\n",
       "        0.17162648, 0.1770295 , 0.18268249, 0.18858038, 0.19471783,\n",
       "        0.20108934, 0.20768918, 0.21451139, 0.22154984, 0.2287982 ,\n",
       "        0.23624994, 0.24389837, 0.25173658, 0.2595748 , 0.26741302,\n",
       "        0.27525123, 0.28308945, 0.29092767, 0.29876588, 0.3066041 ,\n",
       "        0.31444232, 0.32228053, 0.32992896, 0.3373807 , 0.34462906,\n",
       "        0.35166751, 0.35848972, 0.36508956, 0.37146107, 0.37759852,\n",
       "        0.38349641, 0.3891494 , 0.39455242, 0.39995545, 0.40535847,\n",
       "        0.41076149, 0.41616452, 0.42156754, 0.42697056, 0.43237358,\n",
       "        0.43777661, 0.44317963, 0.44883263, 0.45473051, 0.46086796,\n",
       "        0.46723948, 0.47383931, 0.48066152, 0.48769997, 0.49494833,\n",
       "        0.50240008, 0.5100485 , 0.51788671, 0.52572493, 0.53356315,\n",
       "        0.54140136, 0.54923958, 0.5570778 , 0.56491601, 0.57275423]),\n",
       " array([0.        , 0.00841471, 0.01682942, 0.02524413, 0.03365884,\n",
       "        0.04207355, 0.05048826, 0.05906125, 0.0677848 , 0.07665107,\n",
       "        0.08565208, 0.09477972, 0.10402578, 0.11338194, 0.12283978,\n",
       "        0.13239079, 0.14202637, 0.15173785, 0.16144933, 0.17116082,\n",
       "        0.1808723 , 0.19058379, 0.20021937, 0.20977038, 0.21922822,\n",
       "        0.22858438, 0.23783044, 0.24695808, 0.25595908, 0.26482535,\n",
       "        0.2735489 , 0.28212189, 0.2905366 , 0.29895131, 0.30736602,\n",
       "        0.31578073, 0.32419544, 0.33261015, 0.34102486, 0.34943957,\n",
       "        0.35785428, 0.36626899, 0.37451785, 0.38259343, 0.39048847,\n",
       "        0.39819586, 0.40570866, 0.41302012, 0.42012365, 0.42701287,\n",
       "        0.43368156, 0.44012374, 0.4463336 , 0.45254346, 0.45875332,\n",
       "        0.46496318, 0.47117304, 0.4773829 , 0.48359276, 0.48980262,\n",
       "        0.49601248, 0.50222234, 0.50866452, 0.51533321, 0.52222243,\n",
       "        0.52932596, 0.53663742, 0.54415022, 0.55185761, 0.55975265,\n",
       "        0.56782823, 0.57607709, 0.5844918 , 0.59290651, 0.60132122,\n",
       "        0.60973593, 0.61815064, 0.62656534, 0.63498005, 0.64339476,\n",
       "        0.65180947, 0.66022418, 0.66847304, 0.67654862, 0.68444366,\n",
       "        0.69215105, 0.69966385, 0.70697531, 0.71407884, 0.72096806,\n",
       "        0.72763675, 0.73407893, 0.74028879, 0.74649865, 0.75270851,\n",
       "        0.75891837, 0.76512823, 0.77133809, 0.77754795, 0.78375781]),\n",
       " array([1.  , 1.  , 1.  , 1.  , 1.  , 1.  , 1.03, 1.06, 1.09, 1.12, 1.15,\n",
       "        1.18, 1.21, 1.24, 1.27, 1.3 , 1.33, 1.33, 1.33, 1.33, 1.33, 1.3 ,\n",
       "        1.27, 1.24, 1.21, 1.18, 1.15, 1.12, 1.09, 1.06, 1.03, 1.  , 1.  ,\n",
       "        1.  , 1.  , 1.  , 1.  , 1.  , 1.  , 1.  , 1.  , 0.97, 0.94, 0.91,\n",
       "        0.88, 0.85, 0.82, 0.79, 0.76, 0.73, 0.7 , 0.67, 0.67, 0.67, 0.67,\n",
       "        0.67, 0.67, 0.67, 0.67, 0.67, 0.67, 0.7 , 0.73, 0.76, 0.79, 0.82,\n",
       "        0.85, 0.88, 0.91, 0.94, 0.97, 1.  , 1.  , 1.  , 1.  , 1.  , 1.  ,\n",
       "        1.  , 1.  , 1.  , 1.  , 0.97, 0.94, 0.91, 0.88, 0.85, 0.82, 0.79,\n",
       "        0.76, 0.73, 0.7 , 0.67, 0.67, 0.67, 0.67, 0.67, 0.67, 0.67, 0.67,\n",
       "        0.67]))"
      ]
     },
     "execution_count": 9,
     "metadata": {},
     "output_type": "execute_result"
    }
   ],
   "source": [
    "d = 0\n",
    "for i in range(99):\n",
    "  x[i+1] = x[i] + (0.1 * (np.cos(theta[i])) * v[i]) \n",
    "  y[i+1] = y[i] + (0.1 * (np.sin(theta[i])) * v[i]) \n",
    "  theta[i+1] = theta[i] + (0.1 * w[i]) \n",
    "  d = d+1\n",
    "\n",
    "\n",
    "\n",
    "\n",
    "x,y, theta"
   ]
  },
  {
   "cell_type": "code",
   "execution_count": 10,
   "metadata": {
    "colab": {
     "base_uri": "https://localhost:8080/",
     "height": 0
    },
    "id": "3Aqfw6rsqp3x",
    "outputId": "6ab018d6-10f0-49a6-dbe2-6588edf391f3"
   },
   "outputs": [
    {
     "data": {
      "text/plain": [
       "99"
      ]
     },
     "execution_count": 10,
     "metadata": {},
     "output_type": "execute_result"
    }
   ],
   "source": [
    "d"
   ]
  },
  {
   "cell_type": "code",
   "execution_count": 11,
   "metadata": {
    "colab": {
     "base_uri": "https://localhost:8080/",
     "height": 447
    },
    "id": "iwYC2stMytMp",
    "outputId": "edd3f506-f0a5-4b93-97f5-accf5f1d3c46"
   },
   "outputs": [
    {
     "data": {
      "text/plain": [
       "[<matplotlib.lines.Line2D at 0x1be5298cfa0>]"
      ]
     },
     "execution_count": 11,
     "metadata": {},
     "output_type": "execute_result"
    },
    {
     "data": {
      "image/png": "[encoded data removed]",
      "text/plain": [
       "<Figure size 640x480 with 1 Axes>"
      ]
     },
     "metadata": {},
     "output_type": "display_data"
    }
   ],
   "source": [
    "indices = np.arange(100)\n",
    "plt.plot(indices, x)"
   ]
  },
  {
   "cell_type": "code",
   "execution_count": 12,
   "metadata": {
    "colab": {
     "base_uri": "https://localhost:8080/",
     "height": 447
    },
    "id": "E1C3ydNxzw_L",
    "outputId": "68fdd807-a2a1-48a8-aaf7-2af0980022ce"
   },
   "outputs": [
    {
     "data": {
      "text/plain": [
       "[<matplotlib.lines.Line2D at 0x1be549d3910>]"
      ]
     },
     "execution_count": 12,
     "metadata": {},
     "output_type": "execute_result"
    },
    {
     "data": {
      "image/png": "[encoded data removed]",
      "text/plain": [
       "<Figure size 640x480 with 1 Axes>"
      ]
     },
     "metadata": {},
     "output_type": "display_data"
    }
   ],
   "source": [
    "plt.plot(indices, y)"
   ]
  },
  {
   "cell_type": "code",
   "execution_count": 13,
   "metadata": {
    "colab": {
     "base_uri": "https://localhost:8080/",
     "height": 447
    },
    "id": "OFKfNmhhVufH",
    "outputId": "4c0de031-64ea-4199-d9f0-710bdca14af2"
   },
   "outputs": [
    {
     "data": {
      "text/plain": [
       "[<matplotlib.lines.Line2D at 0x1be54a4e280>]"
      ]
     },
     "execution_count": 13,
     "metadata": {},
     "output_type": "execute_result"
    },
    {
     "data": {
      "image/png": "[encoded data removed]",
      "text/plain": [
       "<Figure size 640x480 with 1 Axes>"
      ]
     },
     "metadata": {},
     "output_type": "display_data"
    }
   ],
   "source": [
    "plt.plot(indices, theta)"
   ]
  },
  {
   "cell_type": "code",
   "execution_count": 14,
   "metadata": {
    "colab": {
     "base_uri": "https://localhost:8080/",
     "height": 507
    },
    "id": "yWZlsB1MEYUc",
    "outputId": "9222e7bb-801c-40fa-a59b-45290d485ecf"
   },
   "outputs": [
    {
     "name": "stderr",
     "output_type": "stream",
     "text": [
      "No artists with labels found to put in legend.  Note that artists whose label start with an underscore are ignored when legend() is called with no argument.\n"
     ]
    },
    {
     "data": {
      "text/plain": [
       "Text(0.5, 1.0, 'X vs Y')"
      ]
     },
     "execution_count": 14,
     "metadata": {},
     "output_type": "execute_result"
    },
    {
     "data": {
      "image/png": "[encoded data removed]",
      "text/plain": [
       "<Figure size 640x480 with 1 Axes>"
      ]
     },
     "metadata": {},
     "output_type": "display_data"
    }
   ],
   "source": [
    "plt.plot(x,y)\n",
    "plt.xlabel('X')\n",
    "plt.ylabel('Y')\n",
    "plt.legend()\n",
    "plt.title('X vs Y')"
   ]
  }
 ],
 "metadata": {
  "colab": {
   "provenance": []
  },
  "kernelspec": {
   "display_name": "Python 3 (ipykernel)",
   "language": "python",
   "name": "python3"
  },
  "language_info": {
   "codemirror_mode": {
    "name": "ipython",
    "version": 3
   },
   "file_extension": ".py",
   "mimetype": "text/x-python",
   "name": "python",
   "nbconvert_exporter": "python",
   "pygments_lexer": "ipython3",
   "version": "3.9.13"
  }
 },
 "nbformat": 4,
 "nbformat_minor": 1
}
