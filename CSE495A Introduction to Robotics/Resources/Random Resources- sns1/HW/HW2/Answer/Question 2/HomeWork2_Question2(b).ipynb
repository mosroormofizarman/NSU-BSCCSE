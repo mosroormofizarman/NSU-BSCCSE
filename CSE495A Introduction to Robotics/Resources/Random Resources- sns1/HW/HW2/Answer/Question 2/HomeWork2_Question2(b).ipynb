{
  "nbformat": 4,
  "nbformat_minor": 0,
  "metadata": {
    "colab": {
      "provenance": []
    },
    "kernelspec": {
      "name": "python3",
      "display_name": "Python 3"
    },
    "language_info": {
      "name": "python"
    }
  },
  "cells": [
    {
      "cell_type": "code",
      "execution_count": 52,
      "metadata": {
        "id": "F3mD4qUpk0u8"
      },
      "outputs": [],
      "source": [
        "import numpy as np\n",
        "import matplotlib.pyplot as plt\n",
        "from sympy import symbols, lambdify"
      ]
    },
    {
      "cell_type": "code",
      "source": [
        "# Variables for coefficients\n",
        "coef1_sym = symbols('coef1')\n",
        "coef2_sym = symbols('coef2')\n",
        "coef3_sym = symbols('coef3')\n",
        "coef4_sym = symbols('coef4')\n",
        "coef5_sym = symbols('coef5')\n",
        "coef6_sym = symbols('coef6')\n",
        "coef7_sym = symbols('coef7')\n",
        "coef8_sym = symbols('coef8')"
      ],
      "metadata": {
        "id": "5Q6r48bPk5Ks"
      },
      "execution_count": 53,
      "outputs": []
    },
    {
      "cell_type": "code",
      "source": [
        "# Basis matrix\n",
        "t = 15\n",
        "basis_matrix = np.array([[1, 0, 0, 0, 0, 0, 0, 0],\n",
        "                         [0, 1, 0, 0, 0, 0, 0, 0],\n",
        "                         [0, 0, 0, 0, 1, 0, 0, 0],\n",
        "                         [0, 0, 0, 0, 0, 1, 0, 0],\n",
        "                         [1, t, t**2, t**3, 0, 0, 0, 0],\n",
        "                         [0, 1, 2 * t, 3 * t**2, 0, 0, 0, 0],\n",
        "                         [0, 0, 0, 0, 1, t, t**2, t**3],\n",
        "                         [0, 0, 0, 0, 0, 1, 2 * t, 3 * t**2]])\n",
        "print(basis_matrix)"
      ],
      "metadata": {
        "colab": {
          "base_uri": "https://localhost:8080/"
        },
        "id": "zOG8Vz1ak_98",
        "outputId": "0c3407ee-b8fc-4b1a-87d2-12eca541866e"
      },
      "execution_count": 54,
      "outputs": [
        {
          "output_type": "stream",
          "name": "stdout",
          "text": [
            "[[   1    0    0    0    0    0    0    0]\n",
            " [   0    1    0    0    0    0    0    0]\n",
            " [   0    0    0    0    1    0    0    0]\n",
            " [   0    0    0    0    0    1    0    0]\n",
            " [   1   15  225 3375    0    0    0    0]\n",
            " [   0    1   30  675    0    0    0    0]\n",
            " [   0    0    0    0    1   15  225 3375]\n",
            " [   0    0    0    0    0    1   30  675]]\n"
          ]
        }
      ]
    },
    {
      "cell_type": "code",
      "source": [
        "# Matrix multiplication using pseudo-inverse\n",
        "arr = np.array([[0],\n",
        "                [0],\n",
        "                [0.5],\n",
        "                [-1.6],\n",
        "                [5],\n",
        "                [5],\n",
        "                [0.5],\n",
        "                [-1.6]])\n",
        "mul = np.linalg.pinv(basis_matrix)\n",
        "solutions = np.dot(mul, arr)\n",
        "print(solutions)"
      ],
      "metadata": {
        "colab": {
          "base_uri": "https://localhost:8080/"
        },
        "id": "3sEgtVCjlO5N",
        "outputId": "a5aa7323-28cd-44e6-8bcb-85cc68e05647"
      },
      "execution_count": 55,
      "outputs": [
        {
          "output_type": "stream",
          "name": "stdout",
          "text": [
            "[[ 1.59717062e-14]\n",
            " [-1.12855714e-15]\n",
            " [-2.66666667e-01]\n",
            " [ 1.92592593e-02]\n",
            " [ 5.00000000e-01]\n",
            " [-1.60000000e+00]\n",
            " [ 3.20000000e-01]\n",
            " [-1.42222222e-02]]\n"
          ]
        }
      ]
    },
    {
      "cell_type": "code",
      "source": [
        "# Coefficients as dictionary\n",
        "coefficients_dict = {\n",
        "    coef1_sym: solutions[0, 0],\n",
        "    coef2_sym: solutions[1, 0],\n",
        "    coef3_sym: solutions[2, 0],\n",
        "    coef4_sym: solutions[3, 0],\n",
        "    coef5_sym: solutions[4, 0],\n",
        "    coef6_sym: solutions[5, 0],\n",
        "    coef7_sym: solutions[6, 0],\n",
        "    coef8_sym: solutions[7, 0]\n",
        "}"
      ],
      "metadata": {
        "id": "PHyCfd2JlkDN"
      },
      "execution_count": 56,
      "outputs": []
    },
    {
      "cell_type": "code",
      "source": [
        "# alpha values as a list\n",
        "alpha_values = [1.00000000e+00, 1.00000000e+00, -8.00000000e-02, 3.55555556e-03,\n",
        "                 4.14285794e-13,  1.00000000e+00, -7.33333333e-01, 4.59259259e-02]"
      ],
      "metadata": {
        "id": "joQrkO8ZloqF"
      },
      "execution_count": 57,
      "outputs": []
    },
    {
      "cell_type": "code",
      "source": [
        "# Generate T values\n",
        "T = np.linspace(0, 15, 100)"
      ],
      "metadata": {
        "id": "5v-2Jw50luBF"
      },
      "execution_count": 58,
      "outputs": []
    },
    {
      "cell_type": "code",
      "source": [
        "# Values of X1 & X3\n",
        "X1 = alpha_values[0] + alpha_values[1] * T + alpha_values[2] * (T ** 2) + alpha_values[3] * (T ** 3)\n",
        "X3 = alpha_values[4] + alpha_values[5] * T + alpha_values[6] * (T ** 2) + alpha_values[7] * (T ** 3)"
      ],
      "metadata": {
        "id": "FzBbwCj8mCbl"
      },
      "execution_count": 59,
      "outputs": []
    },
    {
      "cell_type": "code",
      "source": [
        "# plot\n",
        "plt.figure()\n",
        "plt.plot(X1, X3, label='Trajectory')\n",
        "plt.xlabel('X')\n",
        "plt.ylabel('Y')\n",
        "plt.title('Trajectory of the unicycle robot')\n",
        "plt.legend()\n",
        "plt.grid(True)\n",
        "plt.show()"
      ],
      "metadata": {
        "colab": {
          "base_uri": "https://localhost:8080/",
          "height": 472
        },
        "id": "VI1lXFnomFBl",
        "outputId": "a4ec080f-3996-43ad-b070-9148a85c5b56"
      },
      "execution_count": 60,
      "outputs": [
        {
          "output_type": "display_data",
          "data": {
            "text/plain": [
              "<Figure size 640x480 with 1 Axes>"
            ],
            "image/png": "[encoded data removed]"
          },
          "metadata": {}
        }
      ]
    }
  ]
}